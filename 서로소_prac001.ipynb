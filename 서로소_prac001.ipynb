{
  "nbformat": 4,
  "nbformat_minor": 0,
  "metadata": {
    "colab": {
      "name": "서로소_prac001.ipynb",
      "provenance": [],
      "authorship_tag": "ABX9TyNNmOiaGiBjrOjxHjkxtwGh"
    },
    "kernelspec": {
      "name": "python3",
      "display_name": "Python 3"
    },
    "language_info": {
      "name": "python"
    }
  },
  "cells": [
    {
      "cell_type": "code",
      "execution_count": null,
      "metadata": {
        "id": "kbUeRPjfaKDd"
      },
      "outputs": [],
      "source": [
        "def find_parent(parent, x):\n",
        "  if parent[x] != x:\n",
        "    parent[x] = find_parent(parent, parent[x])\n",
        "  return parent[x]\n",
        "\n",
        "def union_parent(parent, a, b):\n",
        "  a = find_parent(parent, a)\n",
        "  b = find_parent(parent, b)\n",
        "  if a < b:\n",
        "    parent[b] = a\n",
        "  else:\n",
        "    parent[a] = b\n",
        "\n",
        "v, e = map(int, input().split())\n",
        "parent = [0] * (v + 1)\n",
        "\n",
        "for i in range(1, v+1):\n",
        "  parent[i] = i\n",
        "\n",
        "for i in range(e):\n",
        "  a, b = map(int, input().split())\n",
        "  union_parent(parent, a, b)\n",
        "\n",
        "print('집합 : ', end='')\n",
        "for i in range(1, v+1):\n",
        "  print(find_parent(parent, i), end = ' ')\n",
        "print()\n",
        "\n",
        "print('부모 테이블 : ', end='')\n",
        "for i in range(1, v+1):\n",
        "  print(parent[i], end=' ')"
      ]
    }
  ]
}