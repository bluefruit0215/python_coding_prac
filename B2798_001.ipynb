{
  "nbformat": 4,
  "nbformat_minor": 0,
  "metadata": {
    "colab": {
      "name": "B2798_001.ipynb",
      "provenance": [],
      "authorship_tag": "ABX9TyPojBC6m/Pxb+N4+BwnF0/d"
    },
    "kernelspec": {
      "name": "python3",
      "display_name": "Python 3"
    },
    "language_info": {
      "name": "python"
    }
  },
  "cells": [
    {
      "cell_type": "code",
      "metadata": {
        "colab": {
          "base_uri": "https://localhost:8080/"
        },
        "id": "Yp-IXioOIP9d",
        "outputId": "d5809c3e-6fbe-4404-c0a0-59e31d0fe01d"
      },
      "source": [
        "N, M = map(int, input().split())"
      ],
      "execution_count": 10,
      "outputs": [
        {
          "name": "stdout",
          "output_type": "stream",
          "text": [
            "10 500\n"
          ]
        }
      ]
    },
    {
      "cell_type": "code",
      "metadata": {
        "colab": {
          "base_uri": "https://localhost:8080/"
        },
        "id": "J3WcXTH6Isu6",
        "outputId": "75993af1-9c35-4757-9b44-aeffda8b8f8b"
      },
      "source": [
        "nums = list(map(int, input().split()))"
      ],
      "execution_count": 11,
      "outputs": [
        {
          "name": "stdout",
          "output_type": "stream",
          "text": [
            "93 181 245 214 315 36 185 138 216 295\n"
          ]
        }
      ]
    },
    {
      "cell_type": "code",
      "metadata": {
        "colab": {
          "base_uri": "https://localhost:8080/"
        },
        "id": "uhtIt4gJI91Q",
        "outputId": "73e4e1a3-db6a-43f9-d98e-00f1d19be42c"
      },
      "source": [
        "max_sum = 0\n",
        "\n",
        "for i in range(len(nums) - 2):\n",
        "  for j in range(i+1, len(nums) - 1):\n",
        "    for k in range(j+1, len(nums)):\n",
        "      sum_of_nums = nums[i] + nums[j] + nums[k]\n",
        "      if (sum_of_nums <= M) and (sum_of_nums > max_sum):\n",
        "        max_sum = sum_of_nums\n",
        "\n",
        "print(max_sum)"
      ],
      "execution_count": 12,
      "outputs": [
        {
          "output_type": "stream",
          "name": "stdout",
          "text": [
            "497\n"
          ]
        }
      ]
    },
    {
      "cell_type": "code",
      "metadata": {
        "id": "k3kmdkStLNVZ"
      },
      "source": [
        ""
      ],
      "execution_count": null,
      "outputs": []
    }
  ]
}