{
  "nbformat": 4,
  "nbformat_minor": 0,
  "metadata": {
    "colab": {
      "name": "adventure_guild_001.ipynb",
      "provenance": [],
      "authorship_tag": "ABX9TyOFTBX8kSUge6eRyX5ebS6g",
      "include_colab_link": true
    },
    "kernelspec": {
      "name": "python3",
      "display_name": "Python 3"
    },
    "language_info": {
      "name": "python"
    }
  },
  "cells": [
    {
      "cell_type": "markdown",
      "metadata": {
        "id": "view-in-github",
        "colab_type": "text"
      },
      "source": [
        "<a href=\"https://colab.research.google.com/github/bluefruit0215/python_coding_prac/blob/main/adventure_guild_001.ipynb\" target=\"_parent\"><img src=\"https://colab.research.google.com/assets/colab-badge.svg\" alt=\"Open In Colab\"/></a>"
      ]
    },
    {
      "cell_type": "code",
      "execution_count": 6,
      "metadata": {
        "colab": {
          "base_uri": "https://localhost:8080/"
        },
        "id": "cLlbsozRDUNe",
        "outputId": "0291f02d-59cb-40bb-aec7-5cbd7f33ae21"
      },
      "outputs": [
        {
          "name": "stdout",
          "output_type": "stream",
          "text": [
            "11\n"
          ]
        }
      ],
      "source": [
        "n = int(input())"
      ]
    },
    {
      "cell_type": "code",
      "source": [
        "fear_list = list(map(int, input().split()))"
      ],
      "metadata": {
        "colab": {
          "base_uri": "https://localhost:8080/"
        },
        "id": "onBzWNhHFGNZ",
        "outputId": "da56be75-a37f-4649-c67a-f71be30fddbb"
      },
      "execution_count": 7,
      "outputs": [
        {
          "name": "stdout",
          "output_type": "stream",
          "text": [
            "1 2 3 3 3 3 5 3 4 6 7\n"
          ]
        }
      ]
    },
    {
      "cell_type": "code",
      "source": [
        "fear_list.sort()\n",
        "fear_list"
      ],
      "metadata": {
        "colab": {
          "base_uri": "https://localhost:8080/"
        },
        "id": "fXRvV8JWIARt",
        "outputId": "38b3b0fb-3805-4cef-bd50-483cfdeaa5b3"
      },
      "execution_count": 8,
      "outputs": [
        {
          "output_type": "execute_result",
          "data": {
            "text/plain": [
              "[1, 2, 3, 3, 3, 3, 3, 4, 5, 6, 7]"
            ]
          },
          "metadata": {},
          "execution_count": 8
        }
      ]
    },
    {
      "cell_type": "code",
      "source": [
        "result = 0\n",
        "temp_group_list = []\n",
        "\n",
        "for fear in fear_list:\n",
        "  temp_group_list.append(fear)\n",
        "  if max(temp_group_list) <= len(temp_group_list):\n",
        "    result += 1\n",
        "    temp_group_list = []\n",
        "\n",
        "print(result)"
      ],
      "metadata": {
        "colab": {
          "base_uri": "https://localhost:8080/"
        },
        "id": "S61h5kVYGxw1",
        "outputId": "887102ca-e685-4b61-bf26-72ea58ab879f"
      },
      "execution_count": 10,
      "outputs": [
        {
          "output_type": "stream",
          "name": "stdout",
          "text": [
            "3\n"
          ]
        }
      ]
    },
    {
      "cell_type": "code",
      "source": [
        ""
      ],
      "metadata": {
        "id": "sXVLgY1XIjOV"
      },
      "execution_count": null,
      "outputs": []
    }
  ]
}