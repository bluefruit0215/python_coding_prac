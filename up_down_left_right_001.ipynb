{
  "nbformat": 4,
  "nbformat_minor": 0,
  "metadata": {
    "colab": {
      "name": "up_down_left_right_001.ipynb",
      "provenance": [],
      "authorship_tag": "ABX9TyO5XBMyta8As9ucnqc9awNQ"
    },
    "kernelspec": {
      "name": "python3",
      "display_name": "Python 3"
    },
    "language_info": {
      "name": "python"
    }
  },
  "cells": [
    {
      "cell_type": "code",
      "execution_count": 3,
      "metadata": {
        "colab": {
          "base_uri": "https://localhost:8080/"
        },
        "id": "wEwgSu5nAvqP",
        "outputId": "4484261d-4c92-4dcb-aeff-9e7d594ae671"
      },
      "outputs": [
        {
          "name": "stdout",
          "output_type": "stream",
          "text": [
            "5\n"
          ]
        }
      ],
      "source": [
        "n = int(input())"
      ]
    },
    {
      "cell_type": "code",
      "source": [
        "x, y = 1, 1\n",
        "\n",
        "lrud_list = input().split()\n",
        "\n",
        "for lrud in lrud_list:\n",
        "  if y > 1 and lrud == 'L':\n",
        "    y -= 1\n",
        "  elif y < n and lrud == 'R':\n",
        "    y += 1\n",
        "  elif x > 1 and lrud == 'U':\n",
        "    x -= 1\n",
        "  elif x < n and lrud =='D':\n",
        "    x += 1\n",
        "\n",
        "print(x, y)\n"
      ],
      "metadata": {
        "colab": {
          "base_uri": "https://localhost:8080/"
        },
        "id": "_TgU_VuTMxIk",
        "outputId": "367922fa-bfa3-4f8f-e561-d0514f423ff7"
      },
      "execution_count": 6,
      "outputs": [
        {
          "output_type": "stream",
          "name": "stdout",
          "text": [
            "R R R U D D\n",
            "3 4\n"
          ]
        }
      ]
    },
    {
      "cell_type": "code",
      "source": [
        ""
      ],
      "metadata": {
        "id": "xC_uwHPqOitO"
      },
      "execution_count": null,
      "outputs": []
    }
  ]
}