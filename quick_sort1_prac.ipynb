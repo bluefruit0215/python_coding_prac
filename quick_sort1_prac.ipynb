{
  "nbformat": 4,
  "nbformat_minor": 0,
  "metadata": {
    "colab": {
      "name": "quick_sort1_prac.ipynb",
      "provenance": [],
      "authorship_tag": "ABX9TyM/4yb7+Xnc6m5aSW+fg0Vf"
    },
    "kernelspec": {
      "name": "python3",
      "display_name": "Python 3"
    },
    "language_info": {
      "name": "python"
    }
  },
  "cells": [
    {
      "cell_type": "code",
      "execution_count": 3,
      "metadata": {
        "colab": {
          "base_uri": "https://localhost:8080/"
        },
        "id": "_jFHAcXkt8iF",
        "outputId": "80d0979f-bc4d-4028-aa2e-634f55190d5c"
      },
      "outputs": [
        {
          "output_type": "stream",
          "name": "stdout",
          "text": [
            "[2, 3, 5, 6, 8, 9, 10]\n"
          ]
        }
      ],
      "source": [
        "array = [2, 6, 8, 3, 9, 10, 5]\n",
        "\n",
        "def quick_sort(array, start, end):\n",
        "  if start >= end:\n",
        "    return\n",
        "  pivot = start\n",
        "  left = start + 1\n",
        "  right = end\n",
        "\n",
        "  while left <= right:\n",
        "    while left <= end and array[left] <= array[pivot]:\n",
        "      left += 1\n",
        "    while right > start and array[right] >= array[pivot]:\n",
        "      right -= 1\n",
        "    if left > right:\n",
        "      array[right], array[pivot] = array[pivot], array[right]\n",
        "\n",
        "    else:\n",
        "      array[left], array[right] = array[right],  array[left]\n",
        "\n",
        "  quick_sort(array, start, right - 1)\n",
        "  quick_sort(array, right + 1, end)\n",
        "\n",
        "quick_sort(array, 0, len(array) - 1)\n",
        "print(array)"
      ]
    },
    {
      "cell_type": "code",
      "source": [
        ""
      ],
      "metadata": {
        "id": "i5rKqlKtuWI2"
      },
      "execution_count": null,
      "outputs": []
    }
  ]
}