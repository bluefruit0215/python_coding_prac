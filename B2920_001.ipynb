nums = input()

nums = nums.split()

if nums == sorted(nums):
  print('ascending')
elif nums == sorted(nums, reverse=True):
  print('descending')
else:
  print('mixed')
