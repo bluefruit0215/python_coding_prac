{
  "nbformat": 4,
  "nbformat_minor": 0,
  "metadata": {
    "colab": {
      "name": "B2920_001.ipynb",
      "provenance": [],
      "authorship_tag": "ABX9TyMwqfIJWUjiA6Slt3+6HBrq"
    },
    "kernelspec": {
      "name": "python3",
      "display_name": "Python 3"
    },
    "language_info": {
      "name": "python"
    }
  },
  "cells": [
    {
      "cell_type": "code",
      "metadata": {
        "colab": {
          "base_uri": "https://localhost:8080/"
        },
        "id": "NfaVzvyNxOZX",
        "outputId": "eb23e231-bb7e-44a5-c264-1e5949706aef"
      },
      "source": [
        "nums = input()"
      ],
      "execution_count": null,
      "outputs": [
        {
          "name": "stdout",
          "output_type": "stream",
          "text": [
            "1 2 3 4 5 6 7 8\n"
          ]
        }
      ]
    },
    {
      "cell_type": "code",
      "metadata": {
        "colab": {
          "base_uri": "https://localhost:8080/"
        },
        "id": "przxylgJxSzu",
        "outputId": "55b915e1-62ac-4d12-e54d-d1dd059fc82c"
      },
      "source": [
        "nums = nums.split()\n",
        "nums"
      ],
      "execution_count": null,
      "outputs": [
        {
          "output_type": "execute_result",
          "data": {
            "text/plain": [
              "['1', '2', '3', '4', '5', '6', '7', '8']"
            ]
          },
          "metadata": {},
          "execution_count": 13
        }
      ]
    },
    {
      "cell_type": "code",
      "metadata": {
        "colab": {
          "base_uri": "https://localhost:8080/"
        },
        "id": "uaLzKmX9xbgX",
        "outputId": "385ba6f7-1cce-4133-cb77-dfb4bd0e4ef0"
      },
      "source": [
        "if nums == sorted(nums):\n",
        "  print('ascending')\n",
        "elif nums == sorted(nums, reverse=True):\n",
        "  print('descending')\n",
        "else:\n",
        "  print('mixed')"
      ],
      "execution_count": null,
      "outputs": [
        {
          "output_type": "stream",
          "name": "stdout",
          "text": [
            "ascending\n"
          ]
        }
      ]
    },
    {
      "cell_type": "code",
      "metadata": {
        "id": "2mzrs0ZfxkhW"
      },
      "source": [
        ""
      ],
      "execution_count": null,
      "outputs": []
    }
  ]
}