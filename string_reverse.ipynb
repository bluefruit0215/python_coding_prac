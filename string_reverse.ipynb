{
  "nbformat": 4,
  "nbformat_minor": 0,
  "metadata": {
    "colab": {
      "name": "string_reverse.ipynb",
      "provenance": [],
      "authorship_tag": "ABX9TyP4sjnJfk2YIsgLjl1Lj9XU"
    },
    "kernelspec": {
      "name": "python3",
      "display_name": "Python 3"
    },
    "language_info": {
      "name": "python"
    }
  },
  "cells": [
    {
      "cell_type": "code",
      "execution_count": 12,
      "metadata": {
        "colab": {
          "base_uri": "https://localhost:8080/"
        },
        "id": "jPetHfV-RJLW",
        "outputId": "6785f91a-d17e-4832-ad95-c7aa51978cf8"
      },
      "outputs": [
        {
          "name": "stdout",
          "output_type": "stream",
          "text": [
            "11101101\n"
          ]
        }
      ],
      "source": [
        "string_list = input()"
      ]
    },
    {
      "cell_type": "code",
      "source": [
        "zero_count = 0\n",
        "one_count = 0\n",
        "zero_flag = -1\n",
        "for s in string_list:\n",
        "  if s == '0' and zero_flag != 1:\n",
        "    zero_flag = 1\n",
        "    zero_count += 1\n",
        "  elif s == '1' and zero_flag != 0:\n",
        "    zero_flag = 0\n",
        "    one_count += 1\n",
        "\n",
        "print(min(one_count, zero_count))"
      ],
      "metadata": {
        "colab": {
          "base_uri": "https://localhost:8080/"
        },
        "id": "Ij7xzfraRutz",
        "outputId": "30776539-4675-49bb-f031-d45fccd68da8"
      },
      "execution_count": 13,
      "outputs": [
        {
          "output_type": "stream",
          "name": "stdout",
          "text": [
            "2\n"
          ]
        }
      ]
    },
    {
      "cell_type": "code",
      "source": [
        ""
      ],
      "metadata": {
        "id": "1mEqyymjT8kL"
      },
      "execution_count": null,
      "outputs": []
    }
  ]
}