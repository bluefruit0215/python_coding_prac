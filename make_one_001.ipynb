{
  "nbformat": 4,
  "nbformat_minor": 0,
  "metadata": {
    "colab": {
      "name": "make_one_001.ipynb",
      "provenance": [],
      "authorship_tag": "ABX9TyNh40wO8kmyh4SGoud1Ttxw"
    },
    "kernelspec": {
      "name": "python3",
      "display_name": "Python 3"
    },
    "language_info": {
      "name": "python"
    }
  },
  "cells": [
    {
      "cell_type": "code",
      "execution_count": 1,
      "metadata": {
        "colab": {
          "base_uri": "https://localhost:8080/"
        },
        "id": "gRV4nHybwizW",
        "outputId": "4ef60cec-be50-4ca9-d591-520031806e21"
      },
      "outputs": [
        {
          "name": "stdout",
          "output_type": "stream",
          "text": [
            "26\n"
          ]
        }
      ],
      "source": [
        "x = int(input())"
      ]
    },
    {
      "cell_type": "code",
      "source": [
        "count_list = [0] * (x + 1)\n",
        "\n",
        "for i in range(2, x+1):\n",
        "  count_list[i] = count_list[i - 1] + 1\n",
        "\n",
        "  if i % 2 == 0:\n",
        "    count_list[i] = min(count_list[i], count_list[i//2] + 1)\n",
        "  if i % 3 == 0:\n",
        "    count_list[i] = min(count_list[i], count_list[i//3] + 1)\n",
        "  if i % 5 == 0:\n",
        "    count_list[i] = min(count_list[i], count_list[i//5] + 1)\n",
        "\n",
        "print(count_list[x])"
      ],
      "metadata": {
        "colab": {
          "base_uri": "https://localhost:8080/"
        },
        "id": "TT8I8RPFx4Z8",
        "outputId": "0ba450f1-8e9d-40b6-c5e7-e35fa1132536"
      },
      "execution_count": 2,
      "outputs": [
        {
          "output_type": "stream",
          "name": "stdout",
          "text": [
            "3\n"
          ]
        }
      ]
    },
    {
      "cell_type": "code",
      "source": [
        ""
      ],
      "metadata": {
        "id": "0DLaj0xvzsOU"
      },
      "execution_count": null,
      "outputs": []
    }
  ]
}