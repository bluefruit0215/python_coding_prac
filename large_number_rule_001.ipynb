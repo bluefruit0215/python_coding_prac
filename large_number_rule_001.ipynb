{
  "nbformat": 4,
  "nbformat_minor": 0,
  "metadata": {
    "colab": {
      "name": "large_number_rule_001.ipynb",
      "provenance": [],
      "authorship_tag": "ABX9TyM1VvTqx8/L30HGPOK+JyzK"
    },
    "kernelspec": {
      "name": "python3",
      "display_name": "Python 3"
    },
    "language_info": {
      "name": "python"
    }
  },
  "cells": [
    {
      "cell_type": "code",
      "execution_count": 12,
      "metadata": {
        "colab": {
          "base_uri": "https://localhost:8080/"
        },
        "id": "k7eSNq-H7J1l",
        "outputId": "96ea44d4-f761-4a76-d039-4d67f2839dc2"
      },
      "outputs": [
        {
          "name": "stdout",
          "output_type": "stream",
          "text": [
            "5 7 2\n"
          ]
        }
      ],
      "source": [
        "N, M, K = map(int, input().split())"
      ]
    },
    {
      "cell_type": "code",
      "source": [
        "num_list = list(map(int, input().split()))"
      ],
      "metadata": {
        "colab": {
          "base_uri": "https://localhost:8080/"
        },
        "id": "CI69jxA-8WJW",
        "outputId": "d0fb6798-58d0-4b8d-e877-a64ffcaafdec"
      },
      "execution_count": 13,
      "outputs": [
        {
          "name": "stdout",
          "output_type": "stream",
          "text": [
            "3 4 3 4 3\n"
          ]
        }
      ]
    },
    {
      "cell_type": "code",
      "source": [
        "sort_list = sorted(num_list, reverse=True)\n",
        "sort_list"
      ],
      "metadata": {
        "colab": {
          "base_uri": "https://localhost:8080/"
        },
        "id": "uXf6_XmJ8dhb",
        "outputId": "c27a7878-20ea-4938-e61f-10ff5ad5f01a"
      },
      "execution_count": 14,
      "outputs": [
        {
          "output_type": "execute_result",
          "data": {
            "text/plain": [
              "[4, 4, 3, 3, 3]"
            ]
          },
          "metadata": {},
          "execution_count": 14
        }
      ]
    },
    {
      "cell_type": "code",
      "source": [
        "first_max_num = sort_list[0]\n",
        "second_max_num = sort_list[1]\n",
        "\n",
        "count = 0\n",
        "result_sum = 0\n",
        "\n",
        "for i in range(M):\n",
        "  if count < K:\n",
        "    result_sum += first_max_num\n",
        "    count += 1\n",
        "  else:\n",
        "    result_sum += second_max_num\n",
        "    count = 0\n",
        "    \n",
        "print(result_sum)"
      ],
      "metadata": {
        "colab": {
          "base_uri": "https://localhost:8080/"
        },
        "id": "SN7P3V9l8f2C",
        "outputId": "a84d6b47-ff05-4f33-9c07-f98d16e7d68a"
      },
      "execution_count": 15,
      "outputs": [
        {
          "output_type": "stream",
          "name": "stdout",
          "text": [
            "28\n"
          ]
        }
      ]
    },
    {
      "cell_type": "code",
      "source": [
        ""
      ],
      "metadata": {
        "id": "WznD5fvd8zZi"
      },
      "execution_count": null,
      "outputs": []
    }
  ]
}