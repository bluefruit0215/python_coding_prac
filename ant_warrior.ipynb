{
  "nbformat": 4,
  "nbformat_minor": 0,
  "metadata": {
    "colab": {
      "name": "ant warrior.ipynb",
      "provenance": [],
      "authorship_tag": "ABX9TyPGINQ7TzvWKSXLOkVs2aIQ"
    },
    "kernelspec": {
      "name": "python3",
      "display_name": "Python 3"
    },
    "language_info": {
      "name": "python"
    }
  },
  "cells": [
    {
      "cell_type": "code",
      "execution_count": 1,
      "metadata": {
        "colab": {
          "base_uri": "https://localhost:8080/"
        },
        "id": "WNGsDLoe0ibF",
        "outputId": "fe478535-619c-40c1-91aa-d30f72b65d53"
      },
      "outputs": [
        {
          "name": "stdout",
          "output_type": "stream",
          "text": [
            "4\n"
          ]
        }
      ],
      "source": [
        "n = int(input())"
      ]
    },
    {
      "cell_type": "code",
      "source": [
        "food_list = list(map(int, input().split()))"
      ],
      "metadata": {
        "colab": {
          "base_uri": "https://localhost:8080/"
        },
        "id": "iLIHp_Cf2I_7",
        "outputId": "7ed4edde-590f-469c-f0fa-870d941893af"
      },
      "execution_count": 2,
      "outputs": [
        {
          "name": "stdout",
          "output_type": "stream",
          "text": [
            "1 3 1 5\n"
          ]
        }
      ]
    },
    {
      "cell_type": "code",
      "source": [
        "result_list = [0] * 101\n",
        "\n",
        "result_list[0] = food_list[0]\n",
        "result_list[1] = max(food_list[0], food_list[1])\n",
        "\n",
        "\n",
        "for i in range(2, n):\n",
        "  result_list[i] = max(result_list[i-1], result_list[i-2] + food_list[i])\n",
        "\n",
        "print(result_list[n-1])"
      ],
      "metadata": {
        "colab": {
          "base_uri": "https://localhost:8080/"
        },
        "id": "ho11rWnd4qMA",
        "outputId": "b11554f2-8a3b-496c-f4c9-a94bf3bf54cd"
      },
      "execution_count": 5,
      "outputs": [
        {
          "output_type": "stream",
          "name": "stdout",
          "text": [
            "8\n"
          ]
        }
      ]
    },
    {
      "cell_type": "code",
      "source": [
        ""
      ],
      "metadata": {
        "id": "W_VvWU6x4y0w"
      },
      "execution_count": null,
      "outputs": []
    }
  ]
}