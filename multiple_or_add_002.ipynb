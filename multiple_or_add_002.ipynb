{
  "nbformat": 4,
  "nbformat_minor": 0,
  "metadata": {
    "colab": {
      "name": "multiple_or_add_002.ipynb",
      "provenance": [],
      "authorship_tag": "ABX9TyOzayadVPmcw6kIG/4vyIFH"
    },
    "kernelspec": {
      "name": "python3",
      "display_name": "Python 3"
    },
    "language_info": {
      "name": "python"
    }
  },
  "cells": [
    {
      "cell_type": "code",
      "execution_count": 1,
      "metadata": {
        "colab": {
          "base_uri": "https://localhost:8080/"
        },
        "id": "_7xFstDJKTO2",
        "outputId": "64328eef-e07c-4c1c-e7a1-ab27bf63b73d"
      },
      "outputs": [
        {
          "name": "stdout",
          "output_type": "stream",
          "text": [
            "02984\n"
          ]
        }
      ],
      "source": [
        "numbers = input()"
      ]
    },
    {
      "cell_type": "code",
      "source": [
        "result = 0\n",
        "\n",
        "for num in numbers:\n",
        "  num = int(num)\n",
        "  if result <= 0 or num == 0 or num == 1:\n",
        "    result = result + num\n",
        "  else:\n",
        "    result = result * num\n",
        "\n",
        "print(result)"
      ],
      "metadata": {
        "colab": {
          "base_uri": "https://localhost:8080/"
        },
        "id": "M4OaEDfnKwMc",
        "outputId": "712157c3-0ca7-4cfd-d9c7-84c86973184f"
      },
      "execution_count": 2,
      "outputs": [
        {
          "output_type": "stream",
          "name": "stdout",
          "text": [
            "576\n"
          ]
        }
      ]
    },
    {
      "cell_type": "code",
      "source": [
        ""
      ],
      "metadata": {
        "id": "_0nn2JSAMdE6"
      },
      "execution_count": null,
      "outputs": []
    }
  ]
}