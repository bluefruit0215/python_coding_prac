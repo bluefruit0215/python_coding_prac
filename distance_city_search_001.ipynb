{
  "nbformat": 4,
  "nbformat_minor": 0,
  "metadata": {
    "colab": {
      "name": "distance_city_search_001.ipynb",
      "provenance": [],
      "authorship_tag": "ABX9TyNfcTncCy6K6Q5EeMuxr3lx"
    },
    "kernelspec": {
      "name": "python3",
      "display_name": "Python 3"
    },
    "language_info": {
      "name": "python"
    }
  },
  "cells": [
    {
      "cell_type": "code",
      "execution_count": 1,
      "metadata": {
        "colab": {
          "base_uri": "https://localhost:8080/"
        },
        "id": "3RApC4QLqO8H",
        "outputId": "8682f638-607d-4537-834d-a01947b8896b"
      },
      "outputs": [
        {
          "name": "stdout",
          "output_type": "stream",
          "text": [
            "4 4 2 1\n"
          ]
        }
      ],
      "source": [
        "n, m, k, x = map(int, input().split())"
      ]
    },
    {
      "cell_type": "code",
      "source": [
        "road_list = []\n",
        "for road in range(m):\n",
        "  start_city, connect_city = map(int, input().split())\n",
        "  road_list.append((start_city, connect_city))"
      ],
      "metadata": {
        "colab": {
          "base_uri": "https://localhost:8080/"
        },
        "id": "XMD2cGbsrLvw",
        "outputId": "3213dfc8-308c-45fe-da06-b54147f53a0e"
      },
      "execution_count": 3,
      "outputs": [
        {
          "name": "stdout",
          "output_type": "stream",
          "text": [
            "1 2\n",
            "1 3\n",
            "2 3\n",
            "2 4\n"
          ]
        }
      ]
    },
    {
      "cell_type": "code",
      "source": [
        "graph = []\n",
        "\n",
        "for city in range(n+1):\n",
        "  graph.append([])\n",
        "\n",
        "for road in road_list:\n",
        "  graph[road[0]].append(road[1])\n",
        "print(graph)"
      ],
      "metadata": {
        "colab": {
          "base_uri": "https://localhost:8080/"
        },
        "id": "jMlk18GRtAlJ",
        "outputId": "c0e24e51-415c-469c-9ef4-f2fb4679aef7"
      },
      "execution_count": 6,
      "outputs": [
        {
          "output_type": "stream",
          "name": "stdout",
          "text": [
            "[[], [2, 3], [3, 4], [], []]\n"
          ]
        }
      ]
    },
    {
      "cell_type": "code",
      "source": [
        "distance = [-1] * (n+1)\n",
        "distance[x] = 0"
      ],
      "metadata": {
        "id": "V_3DPEr5ulBJ"
      },
      "execution_count": 8,
      "outputs": []
    },
    {
      "cell_type": "code",
      "source": [
        "from collections import deque\n",
        "\n",
        "queue = deque([x])\n",
        "\n",
        "while queue:\n",
        "  current_city = queue.popleft()\n",
        "\n",
        "  for next_city in graph[current_city]:\n",
        "    if distance[next_city] == -1:\n",
        "      distance[next_city] = distance[current_city] + 1\n",
        "      queue.append(next_city)\n",
        "\n",
        "flag = 0\n",
        "\n",
        "for i in range(1, n+1):\n",
        "  if distance[i] == k:\n",
        "    print(i)\n",
        "    flag = 1\n",
        "\n",
        "if flag == 0:\n",
        "  print(-1)\n",
        "\n"
      ],
      "metadata": {
        "colab": {
          "base_uri": "https://localhost:8080/"
        },
        "id": "f7Z4h0Ewt2F1",
        "outputId": "cab40666-98b5-458a-f38a-b011961b5305"
      },
      "execution_count": 9,
      "outputs": [
        {
          "output_type": "stream",
          "name": "stdout",
          "text": [
            "4\n"
          ]
        }
      ]
    },
    {
      "cell_type": "code",
      "source": [
        ""
      ],
      "metadata": {
        "id": "dqDNEgdc1ApM"
      },
      "execution_count": null,
      "outputs": []
    }
  ]
}