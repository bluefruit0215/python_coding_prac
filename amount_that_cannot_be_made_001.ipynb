{
  "nbformat": 4,
  "nbformat_minor": 0,
  "metadata": {
    "colab": {
      "name": "amount_that_cannot_be_made_001.ipynb",
      "provenance": [],
      "authorship_tag": "ABX9TyMq2xGvN2Sca1s/E3d83aHP"
    },
    "kernelspec": {
      "name": "python3",
      "display_name": "Python 3"
    },
    "language_info": {
      "name": "python"
    }
  },
  "cells": [
    {
      "cell_type": "code",
      "execution_count": 4,
      "metadata": {
        "id": "dUM4HR9IM1Nv",
        "colab": {
          "base_uri": "https://localhost:8080/"
        },
        "outputId": "c6525224-7d24-477d-cd46-acf18add8fc9"
      },
      "outputs": [
        {
          "name": "stdout",
          "output_type": "stream",
          "text": [
            "5\n"
          ]
        }
      ],
      "source": [
        "n = int(input())"
      ]
    },
    {
      "cell_type": "code",
      "source": [
        "coin_list = list(map(int, input().split()))\n"
      ],
      "metadata": {
        "colab": {
          "base_uri": "https://localhost:8080/"
        },
        "id": "0xfvuWL4nZMl",
        "outputId": "5b12897d-a31b-4fa4-dc89-cf52d729251e"
      },
      "execution_count": 5,
      "outputs": [
        {
          "name": "stdout",
          "output_type": "stream",
          "text": [
            "3 2 1 1 9\n"
          ]
        }
      ]
    },
    {
      "cell_type": "code",
      "source": [
        "coin_list.sort()\n",
        "\n",
        "result = 1\n",
        "\n",
        "for coin in coin_list:\n",
        "  if result < coin:\n",
        "    break\n",
        "  result += coin\n",
        "\n",
        "print(result)\n"
      ],
      "metadata": {
        "colab": {
          "base_uri": "https://localhost:8080/"
        },
        "id": "6f_gGyYdn_Qa",
        "outputId": "03201cf8-0e2c-45ad-bf32-cfd9e3370290"
      },
      "execution_count": 6,
      "outputs": [
        {
          "output_type": "stream",
          "name": "stdout",
          "text": [
            "8\n"
          ]
        }
      ]
    },
    {
      "cell_type": "code",
      "source": [
        ""
      ],
      "metadata": {
        "id": "fWBLbGb3okUp"
      },
      "execution_count": null,
      "outputs": []
    }
  ]
}