{
  "nbformat": 4,
  "nbformat_minor": 0,
  "metadata": {
    "colab": {
      "name": "quick_sort_prac003.ipynb",
      "provenance": [],
      "authorship_tag": "ABX9TyPUEHDvPdncvIbHogAIDZzC"
    },
    "kernelspec": {
      "name": "python3",
      "display_name": "Python 3"
    },
    "language_info": {
      "name": "python"
    }
  },
  "cells": [
    {
      "cell_type": "code",
      "execution_count": 1,
      "metadata": {
        "colab": {
          "base_uri": "https://localhost:8080/"
        },
        "id": "4J3OKZEw-_3p",
        "outputId": "eb886094-9e75-496e-9120-54f742557742"
      },
      "outputs": [
        {
          "output_type": "stream",
          "name": "stdout",
          "text": [
            "[1, 2, 3, 5, 6, 9, 10, 12, 14]\n"
          ]
        }
      ],
      "source": [
        "array = [3, 6, 2, 9, 1, 10, 12, 5, 14]\n",
        "\n",
        "def quick_sort(array):\n",
        "  if len(array) <= 1:\n",
        "    return array\n",
        "\n",
        "  pivot = array[0]\n",
        "  tail = array[1:]\n",
        "\n",
        "  left_side = [x for x in tail if x<= pivot]\n",
        "  right_side = [x for x in tail if x > pivot]\n",
        "\n",
        "  return quick_sort(left_side) + [pivot] + quick_sort(right_side)\n",
        "\n",
        "print(quick_sort(array))"
      ]
    },
    {
      "cell_type": "code",
      "source": [
        ""
      ],
      "metadata": {
        "id": "-pdD_96n_YiB"
      },
      "execution_count": null,
      "outputs": []
    }
  ]
}