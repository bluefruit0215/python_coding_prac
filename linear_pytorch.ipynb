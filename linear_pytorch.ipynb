{
  "nbformat": 4,
  "nbformat_minor": 0,
  "metadata": {
    "colab": {
      "name": "linear_pytorch.ipynb",
      "provenance": [],
      "authorship_tag": "ABX9TyNFxPTZ0j/rv76L/Xeupstw"
    },
    "kernelspec": {
      "name": "python3",
      "display_name": "Python 3"
    },
    "language_info": {
      "name": "python"
    }
  },
  "cells": [
    {
      "cell_type": "code",
      "source": [
        "import torch\n",
        "import torch.nn as nn\n",
        "import torch.nn.functional as F\n",
        "import torch.optim as optim"
      ],
      "metadata": {
        "id": "ZmqpEcNYN64D"
      },
      "execution_count": 1,
      "outputs": []
    },
    {
      "cell_type": "code",
      "source": [
        "x_train = torch.FloatTensor([[3], [5], [7]])\n",
        "y_train = torch.FloatTensor([[9], [15], [21]])\n",
        "\n",
        "W = torch.zeros(1, requires_grad=True)\n",
        "b = torch.zeros(1, requires_grad=True)\n",
        "\n",
        "optimizer = optim.SGD([W, b], lr=0.01)\n",
        "\n",
        "n_epochs = 1000\n",
        "\n",
        "for epoch in range(n_epochs + 1):\n",
        "  hypothesis = x_train * W + b\n",
        "\n",
        "  cost = torch.mean((hypothesis - y_train) ** 2)\n",
        "\n",
        "  optimizer.zero_grad()\n",
        "  cost.backward()\n",
        "  optimizer.step()\n",
        "\n",
        "  if epoch % 100 == 0:\n",
        "        print('Epoch {:4d}/{} W: {:.4f}, b: {:.4f} Cost: {:.4f}'.format(\n",
        "            epoch, n_epochs, W.item(), b.item(), cost.item()\n",
        "        ))"
      ],
      "metadata": {
        "id": "iEVSnaJdLViN",
        "colab": {
          "base_uri": "https://localhost:8080/"
        },
        "outputId": "6e4c2e69-b37c-4736-c184-ff7e3a4d95a1"
      },
      "execution_count": 2,
      "outputs": [
        {
          "output_type": "stream",
          "name": "stdout",
          "text": [
            "Epoch    0/1000 W: 1.6600, b: 0.3000 Cost: 249.0000\n",
            "Epoch  100/1000 W: 2.9209, b: 0.4361 Cost: 0.0184\n",
            "Epoch  200/1000 W: 2.9344, b: 0.3618 Cost: 0.0127\n",
            "Epoch  300/1000 W: 2.9456, b: 0.3001 Cost: 0.0087\n",
            "Epoch  400/1000 W: 2.9548, b: 0.2490 Cost: 0.0060\n",
            "Epoch  500/1000 W: 2.9625, b: 0.2066 Cost: 0.0041\n",
            "Epoch  600/1000 W: 2.9689, b: 0.1714 Cost: 0.0028\n",
            "Epoch  700/1000 W: 2.9742, b: 0.1422 Cost: 0.0020\n",
            "Epoch  800/1000 W: 2.9786, b: 0.1179 Cost: 0.0013\n",
            "Epoch  900/1000 W: 2.9823, b: 0.0978 Cost: 0.0009\n",
            "Epoch 1000/1000 W: 2.9853, b: 0.0812 Cost: 0.0006\n"
          ]
        }
      ]
    },
    {
      "cell_type": "code",
      "source": [
        "W.grad"
      ],
      "metadata": {
        "colab": {
          "base_uri": "https://localhost:8080/"
        },
        "id": "OF94lVSsOqQu",
        "outputId": "51d05c33-1dc5-4560-b343-d2fdb0d809ab"
      },
      "execution_count": 3,
      "outputs": [
        {
          "output_type": "execute_result",
          "data": {
            "text/plain": [
              "tensor([-0.0027])"
            ]
          },
          "metadata": {},
          "execution_count": 3
        }
      ]
    },
    {
      "cell_type": "code",
      "source": [
        "import torch\n",
        "import torch.nn as nn\n",
        "import torch.nn.functional as F\n",
        "import torch.optim as optim"
      ],
      "metadata": {
        "id": "x7fufasdP-uo"
      },
      "execution_count": 4,
      "outputs": []
    },
    {
      "cell_type": "code",
      "source": [
        "torch.manual_seed(1)"
      ],
      "metadata": {
        "colab": {
          "base_uri": "https://localhost:8080/"
        },
        "id": "7ei98YdvQb-l",
        "outputId": "db0c2e73-da7c-4493-f528-9228aa0c005a"
      },
      "execution_count": 5,
      "outputs": [
        {
          "output_type": "execute_result",
          "data": {
            "text/plain": [
              "<torch._C.Generator at 0x7f56a68aa3d0>"
            ]
          },
          "metadata": {},
          "execution_count": 5
        }
      ]
    },
    {
      "cell_type": "code",
      "source": [
        "x1_train = torch.FloatTensor([[73], [93], [89], [96], [73]])\n",
        "x2_train = torch.FloatTensor([[80], [88], [91], [98], [66]])\n",
        "x3_train = torch.FloatTensor([[75], [93], [90], [100], [70]])\n",
        "y_train = torch.FloatTensor([[152], [185], [180], [196], [142]])\n"
      ],
      "metadata": {
        "id": "hkYg9yAfQdSc"
      },
      "execution_count": 6,
      "outputs": []
    },
    {
      "cell_type": "code",
      "source": [
        "w1 = torch.zeros(1, requires_grad=True)\n",
        "w2 = torch.zeros(1, requires_grad=True)\n",
        "w3 = torch.zeros(1, requires_grad=True)\n",
        "b = torch.zeros(1, requires_grad=True)"
      ],
      "metadata": {
        "id": "_jDoknqQQ8FQ"
      },
      "execution_count": 7,
      "outputs": []
    },
    {
      "cell_type": "code",
      "source": [
        "optimizer = optim.SGD([w1, w2, w3, b], lr=1e-5)\n",
        "\n",
        "n_epochs = 1500\n",
        "\n",
        "for epoch in range(n_epochs + 1):\n",
        "  hypothesis = x1_train * w1 + x2_train * w2 + x3_train * w3 + b\n",
        "\n",
        "  cost = torch.mean((hypothesis - y_train) ** 2)\n",
        "\n",
        "  optimizer.zero_grad()\n",
        "  cost.backward()\n",
        "  optimizer.step()\n",
        "\n",
        "  if epoch % 100 == 0:\n",
        "        print('Epoch {:4d}/{} w1: {:.3f} w2: {:.3f} w3: {:.3f} b: {:.3f} Cost: {:.6f}'.format(\n",
        "            epoch, n_epochs, w1.item(), w2.item(), w3.item(), b.item(), cost.item()\n",
        "        ))"
      ],
      "metadata": {
        "colab": {
          "base_uri": "https://localhost:8080/"
        },
        "id": "QimV28lYRFEd",
        "outputId": "6b383a42-01c4-4512-92ce-7500d0cb2074"
      },
      "execution_count": 9,
      "outputs": [
        {
          "output_type": "stream",
          "name": "stdout",
          "text": [
            "Epoch    0/1500 w1: 0.459 w2: 0.458 w3: 0.464 b: 0.005 Cost: 9298.520508\n",
            "Epoch  100/1500 w1: 0.674 w2: 0.661 w3: 0.676 b: 0.008 Cost: 1.562946\n",
            "Epoch  200/1500 w1: 0.679 w2: 0.655 w3: 0.677 b: 0.008 Cost: 1.496967\n",
            "Epoch  300/1500 w1: 0.684 w2: 0.649 w3: 0.677 b: 0.008 Cost: 1.434433\n",
            "Epoch  400/1500 w1: 0.689 w2: 0.643 w3: 0.678 b: 0.008 Cost: 1.375144\n",
            "Epoch  500/1500 w1: 0.695 w2: 0.638 w3: 0.678 b: 0.009 Cost: 1.318964\n",
            "Epoch  600/1500 w1: 0.699 w2: 0.633 w3: 0.679 b: 0.009 Cost: 1.265695\n",
            "Epoch  700/1500 w1: 0.704 w2: 0.627 w3: 0.679 b: 0.009 Cost: 1.215217\n",
            "Epoch  800/1500 w1: 0.709 w2: 0.622 w3: 0.679 b: 0.009 Cost: 1.167346\n",
            "Epoch  900/1500 w1: 0.714 w2: 0.617 w3: 0.680 b: 0.009 Cost: 1.121989\n",
            "Epoch 1000/1500 w1: 0.718 w2: 0.612 w3: 0.680 b: 0.009 Cost: 1.078964\n",
            "Epoch 1100/1500 w1: 0.722 w2: 0.608 w3: 0.680 b: 0.009 Cost: 1.038180\n",
            "Epoch 1200/1500 w1: 0.727 w2: 0.603 w3: 0.681 b: 0.010 Cost: 0.999513\n",
            "Epoch 1300/1500 w1: 0.731 w2: 0.599 w3: 0.681 b: 0.010 Cost: 0.962859\n",
            "Epoch 1400/1500 w1: 0.735 w2: 0.595 w3: 0.681 b: 0.010 Cost: 0.928092\n",
            "Epoch 1500/1500 w1: 0.739 w2: 0.590 w3: 0.681 b: 0.010 Cost: 0.895123\n"
          ]
        }
      ]
    },
    {
      "cell_type": "code",
      "source": [
        "x_train  =  torch.FloatTensor([[73,  80,  75], \n",
        "                               [93,  88,  93], \n",
        "                               [89,  91,  80], \n",
        "                               [96,  98,  100],   \n",
        "                               [73,  66,  70]])  \n",
        "y_train  =  torch.FloatTensor([[152],  [185],  [180],  [196],  [142]])"
      ],
      "metadata": {
        "id": "QeTntt9pSF9n"
      },
      "execution_count": 10,
      "outputs": []
    },
    {
      "cell_type": "code",
      "source": [
        "W = torch.zeros((3, 1), requires_grad=True)\n",
        "b = torch.zeros(1, requires_grad=True)"
      ],
      "metadata": {
        "id": "EoGQtwL0SpBk"
      },
      "execution_count": 11,
      "outputs": []
    },
    {
      "cell_type": "code",
      "source": [
        "hypothesis = x_train.matmul(W) + b"
      ],
      "metadata": {
        "id": "VWP3x6UkSvnN"
      },
      "execution_count": 12,
      "outputs": []
    },
    {
      "cell_type": "code",
      "source": [
        "optimizer = optim.SGD([W, b], lr=1e-5)\n",
        "n_epochs=20\n",
        "\n",
        "nb_epochs = 20\n",
        "for epoch in range(n_epochs + 1):\n",
        "  hypothesis = x_train.matmul(W) + b\n",
        "\n",
        "  cost = torch.mean((hypothesis - y_train) ** 2)\n",
        "\n",
        "  optimizer.zero_grad()\n",
        "  cost.backward()\n",
        "  optimizer.step()\n",
        "\n",
        "  print('Epoch {:4d}/{} hypothesis: {} Cost: {:.6f}'.format(\n",
        "        epoch, nb_epochs, hypothesis.squeeze().detach(), cost.item()\n",
        "    ))"
      ],
      "metadata": {
        "colab": {
          "base_uri": "https://localhost:8080/"
        },
        "id": "m2_kOcPaTReF",
        "outputId": "49f8c339-2227-4df3-e7b1-eee8c4c7b906"
      },
      "execution_count": 14,
      "outputs": [
        {
          "output_type": "stream",
          "name": "stdout",
          "text": [
            "Epoch    0/20 hypothesis: tensor([153.8082, 184.8011, 177.0275, 197.8766, 141.3474]) Cost: 3.218452\n",
            "Epoch    1/20 hypothesis: tensor([153.8080, 184.8010, 177.0282, 197.8762, 141.3475]) Cost: 3.217176\n",
            "Epoch    2/20 hypothesis: tensor([153.8078, 184.8008, 177.0289, 197.8758, 141.3477]) Cost: 3.215892\n",
            "Epoch    3/20 hypothesis: tensor([153.8076, 184.8007, 177.0296, 197.8754, 141.3478]) Cost: 3.214618\n",
            "Epoch    4/20 hypothesis: tensor([153.8075, 184.8006, 177.0303, 197.8749, 141.3479]) Cost: 3.213326\n",
            "Epoch    5/20 hypothesis: tensor([153.8073, 184.8004, 177.0310, 197.8745, 141.3480]) Cost: 3.212042\n",
            "Epoch    6/20 hypothesis: tensor([153.8071, 184.8003, 177.0317, 197.8741, 141.3481]) Cost: 3.210751\n",
            "Epoch    7/20 hypothesis: tensor([153.8069, 184.8001, 177.0324, 197.8737, 141.3482]) Cost: 3.209460\n",
            "Epoch    8/20 hypothesis: tensor([153.8068, 184.8000, 177.0331, 197.8732, 141.3483]) Cost: 3.208195\n",
            "Epoch    9/20 hypothesis: tensor([153.8066, 184.7998, 177.0337, 197.8728, 141.3484]) Cost: 3.206923\n",
            "Epoch   10/20 hypothesis: tensor([153.8064, 184.7997, 177.0344, 197.8724, 141.3485]) Cost: 3.205645\n",
            "Epoch   11/20 hypothesis: tensor([153.8062, 184.7995, 177.0351, 197.8720, 141.3486]) Cost: 3.204332\n",
            "Epoch   12/20 hypothesis: tensor([153.8061, 184.7994, 177.0358, 197.8716, 141.3488]) Cost: 3.203079\n",
            "Epoch   13/20 hypothesis: tensor([153.8059, 184.7992, 177.0365, 197.8711, 141.3489]) Cost: 3.201796\n",
            "Epoch   14/20 hypothesis: tensor([153.8057, 184.7991, 177.0372, 197.8707, 141.3490]) Cost: 3.200533\n",
            "Epoch   15/20 hypothesis: tensor([153.8055, 184.7989, 177.0379, 197.8703, 141.3491]) Cost: 3.199245\n",
            "Epoch   16/20 hypothesis: tensor([153.8053, 184.7988, 177.0386, 197.8699, 141.3492]) Cost: 3.197947\n",
            "Epoch   17/20 hypothesis: tensor([153.8052, 184.7987, 177.0393, 197.8695, 141.3493]) Cost: 3.196675\n",
            "Epoch   18/20 hypothesis: tensor([153.8050, 184.7985, 177.0400, 197.8690, 141.3494]) Cost: 3.195395\n",
            "Epoch   19/20 hypothesis: tensor([153.8048, 184.7984, 177.0406, 197.8686, 141.3495]) Cost: 3.194133\n",
            "Epoch   20/20 hypothesis: tensor([153.8047, 184.7982, 177.0414, 197.8682, 141.3496]) Cost: 3.192856\n"
          ]
        }
      ]
    },
    {
      "cell_type": "code",
      "source": [
        "import torch\n",
        "import torch.nn as nn\n",
        "import torch.nn.functional as F"
      ],
      "metadata": {
        "id": "0ntM-yu0TmxI"
      },
      "execution_count": 15,
      "outputs": []
    },
    {
      "cell_type": "code",
      "source": [
        "x_train = torch.FloatTensor([[73, 80, 75],\n",
        "                             [93, 88, 93],\n",
        "                             [89, 91, 90],\n",
        "                             [96, 98, 100],\n",
        "                             [73, 66, 70]])\n",
        "y_train = torch.FloatTensor([[152], [185], [180], [196], [142]])"
      ],
      "metadata": {
        "id": "za4Xx6miUfwv"
      },
      "execution_count": 16,
      "outputs": []
    },
    {
      "cell_type": "code",
      "source": [
        "model = nn.Linear(3, 1)\n",
        "optimizer = torch.optim.SGD(model.parameters(), lr=1e-5)\n",
        "\n",
        "n_epochs = 1500\n",
        "\n",
        "for epoch in range(n_epochs + 1):\n",
        "  prediction = model(x_train)\n",
        "\n",
        "  cost = F.mse_loss(prediction, y_train)\n",
        "\n",
        "  optimizer.zero_grad()\n",
        "  cost.backward()\n",
        "  optimizer.step()\n",
        "\n",
        "  if epoch % 100 == 0:\n",
        "    # 100번마다 로그 출력\n",
        "      print('Epoch {:4d}/{} Cost: {:.6f}'.format(\n",
        "          epoch, nb_epochs, cost.item()\n",
        "      ))"
      ],
      "metadata": {
        "colab": {
          "base_uri": "https://localhost:8080/"
        },
        "id": "pQszJWjWVl-d",
        "outputId": "c2a7c223-c048-485b-e245-ec5573809ac1"
      },
      "execution_count": 17,
      "outputs": [
        {
          "output_type": "stream",
          "name": "stdout",
          "text": [
            "Epoch    0/20 Cost: 31667.597656\n",
            "Epoch  100/20 Cost: 0.225993\n",
            "Epoch  200/20 Cost: 0.223911\n",
            "Epoch  300/20 Cost: 0.221941\n",
            "Epoch  400/20 Cost: 0.220059\n",
            "Epoch  500/20 Cost: 0.218271\n",
            "Epoch  600/20 Cost: 0.216575\n",
            "Epoch  700/20 Cost: 0.214950\n",
            "Epoch  800/20 Cost: 0.213413\n",
            "Epoch  900/20 Cost: 0.211952\n",
            "Epoch 1000/20 Cost: 0.210560\n",
            "Epoch 1100/20 Cost: 0.209232\n",
            "Epoch 1200/20 Cost: 0.207967\n",
            "Epoch 1300/20 Cost: 0.206761\n",
            "Epoch 1400/20 Cost: 0.205619\n",
            "Epoch 1500/20 Cost: 0.204522\n"
          ]
        }
      ]
    },
    {
      "cell_type": "code",
      "source": [
        ""
      ],
      "metadata": {
        "id": "B1bUGn9PWgWZ"
      },
      "execution_count": null,
      "outputs": []
    }
  ]
}