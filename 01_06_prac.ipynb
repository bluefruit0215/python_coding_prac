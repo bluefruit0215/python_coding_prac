{
  "nbformat": 4,
  "nbformat_minor": 0,
  "metadata": {
    "colab": {
      "name": "01_06_prac.ipynb",
      "provenance": [],
      "authorship_tag": "ABX9TyPJwrXYgH5q7r+8GXVbmp7Y"
    },
    "kernelspec": {
      "name": "python3",
      "display_name": "Python 3"
    },
    "language_info": {
      "name": "python"
    }
  },
  "cells": [
    {
      "cell_type": "code",
      "execution_count": 2,
      "metadata": {
        "colab": {
          "base_uri": "https://localhost:8080/"
        },
        "id": "-aaRIwbofdne",
        "outputId": "3c3f73ee-ca33-4396-eee4-7ac6ead95e44"
      },
      "outputs": [
        {
          "output_type": "stream",
          "name": "stdout",
          "text": [
            "1 2 7 6 8 3 4 5 "
          ]
        }
      ],
      "source": [
        "def dfs(graph, v, visited):\n",
        "  visited[v] = True\n",
        "  print(v, end=' ')\n",
        "\n",
        "  for i in graph[v]:\n",
        "    if not visited[i]:\n",
        "      dfs(graph, i, visited)\n",
        "\n",
        "graph = [\n",
        "          [],\n",
        "          [2, 3, 8],\n",
        "          [1, 7],\n",
        "        [1,4, 5],\n",
        "          [3, 5],\n",
        "          [3, 4], \n",
        "          [7],\n",
        "          [2, 6, 8],\n",
        "          [1, 7]\n",
        "]\n",
        "\n",
        "visited = [False] * 9\n",
        "\n",
        "dfs(graph, 1, visited)"
      ]
    },
    {
      "cell_type": "code",
      "source": [
        "from collections import deque\n",
        "\n",
        "def bfs(graph, start, visited):\n",
        "  queue = deque([start])\n",
        "  visited[start] = True\n",
        "  \n",
        "  while queue:\n",
        "    v = queue.popleft()\n",
        "    print(v, end=' ')\n",
        "\n",
        "    for i in graph[v]:\n",
        "      if not vistied[i]:\n",
        "        queue.append(i)\n",
        "        visited[i] = True"
      ],
      "metadata": {
        "id": "LEETvpq6gAjr"
      },
      "execution_count": 3,
      "outputs": []
    },
    {
      "cell_type": "code",
      "source": [
        "def quick_sort(array, start, end):\n",
        "  if start >= end:\n",
        "    return\n",
        "  pivot = start\n",
        "  left = start + 1\n",
        "  right = end\n",
        "  while left <= right:\n",
        "    while left <= end and array[left] <= array[pivot]:\n",
        "      left += 1\n",
        "    while right > start and array[right] >= array[pivot]:\n",
        "      right -= 1\n",
        "    if left > right:\n",
        "      array[right], array[pivot] = array[pivot], array[right]\n",
        "    else:\n",
        "      array[left], array[right] = array[right], array[left]\n",
        "  quick_sort(array, start, right - 1)\n",
        "  quick_sort(array, right + 1, end)\n",
        "\n",
        "# quick_sort(array, 0, len(array) - 1)\n"
      ],
      "metadata": {
        "id": "l4f_XBqZgrXB"
      },
      "execution_count": 5,
      "outputs": []
    },
    {
      "cell_type": "code",
      "source": [
        "def quick_sort(array):\n",
        "  if len(array) <= 1:\n",
        "    return array\n",
        "\n",
        "  pivot = array[0]\n",
        "  tail = array[1:]\n",
        "  left_side = [x for x in tail if x <= pivot]\n",
        "  right_side = [x for x in tail if x > pivot]\n",
        "\n",
        "  return quick_sort(left_side) + [pivot] + quick_sort(right_side)\n",
        "\n",
        "  "
      ],
      "metadata": {
        "id": "oYj20Rg8id9p"
      },
      "execution_count": 6,
      "outputs": []
    },
    {
      "cell_type": "code",
      "source": [
        "# count = [0] * (max(array) + 1)\n",
        "\n",
        "# for i in range(len(array)):\n",
        "#   count[array[i]] += 1\n",
        "\n",
        "# for i in range(len(count)):\n",
        "#   for j in range(count[i]):\n",
        "#     print(i, end= ' ')"
      ],
      "metadata": {
        "id": "I2i_j0CEi0jq"
      },
      "execution_count": 7,
      "outputs": []
    },
    {
      "cell_type": "code",
      "source": [
        ""
      ],
      "metadata": {
        "id": "6jcAjIcnjFPH"
      },
      "execution_count": null,
      "outputs": []
    }
  ]
}