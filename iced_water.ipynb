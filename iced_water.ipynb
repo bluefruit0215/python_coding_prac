{
  "nbformat": 4,
  "nbformat_minor": 0,
  "metadata": {
    "colab": {
      "name": "iced_water.ipynb",
      "provenance": [],
      "authorship_tag": "ABX9TyPBBw9/GyxREtDhkPx5JBzK"
    },
    "kernelspec": {
      "name": "python3",
      "display_name": "Python 3"
    },
    "language_info": {
      "name": "python"
    }
  },
  "cells": [
    {
      "cell_type": "code",
      "execution_count": 3,
      "metadata": {
        "colab": {
          "base_uri": "https://localhost:8080/"
        },
        "id": "PK_tE2nqcNCm",
        "outputId": "0d141fe0-8a96-4193-fca3-911e845259a7"
      },
      "outputs": [
        {
          "name": "stdout",
          "output_type": "stream",
          "text": [
            "4 5\n"
          ]
        }
      ],
      "source": [
        "n, m = map(int, input().split())"
      ]
    },
    {
      "cell_type": "code",
      "source": [
        "graph = []\n",
        "for i in range(n):\n",
        "  graph.append(list(map(int, input())))"
      ],
      "metadata": {
        "colab": {
          "base_uri": "https://localhost:8080/"
        },
        "id": "G5_vGH7_cSDv",
        "outputId": "3e56f580-8179-4b44-d20a-5e1c6af95852"
      },
      "execution_count": 4,
      "outputs": [
        {
          "name": "stdout",
          "output_type": "stream",
          "text": [
            "00110\n",
            "00011\n",
            "11111\n",
            "00000\n"
          ]
        }
      ]
    },
    {
      "cell_type": "code",
      "source": [
        "def dfs(x, y):\n",
        "  if x < 0 or x >= n or y < 0 or y >= m:\n",
        "    return False\n",
        "  \n",
        "  if graph[x][y] == 0:\n",
        "    graph[x][y] = 1\n",
        "    dfs(x-1, y)\n",
        "    dfs(x+1, y)\n",
        "    dfs(x, y-1)\n",
        "    dfs(x, y+1)\n",
        "    return True\n",
        "  return False"
      ],
      "metadata": {
        "id": "YjEScOEqcja0"
      },
      "execution_count": 6,
      "outputs": []
    },
    {
      "cell_type": "code",
      "source": [
        "sum_of_ice = 0\n",
        "\n",
        "for i in range(n):\n",
        "  for j in range(m):\n",
        "    result = dfs(i, j)\n",
        "    if result == True:\n",
        "      sum_of_ice += 1\n",
        "\n",
        "print(sum_of_ice)"
      ],
      "metadata": {
        "colab": {
          "base_uri": "https://localhost:8080/"
        },
        "id": "ysYLmbfdc_EF",
        "outputId": "9b05c033-7a46-4fc4-d92f-ccc17df66063"
      },
      "execution_count": 8,
      "outputs": [
        {
          "output_type": "stream",
          "name": "stdout",
          "text": [
            "3\n"
          ]
        }
      ]
    },
    {
      "cell_type": "code",
      "source": [
        ""
      ],
      "metadata": {
        "id": "Vm6AzY4Lds19"
      },
      "execution_count": null,
      "outputs": []
    },
    {
      "cell_type": "code",
      "source": [
        ""
      ],
      "metadata": {
        "id": "V9UVWwFRdwku"
      },
      "execution_count": null,
      "outputs": []
    }
  ]
}