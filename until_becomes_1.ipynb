{
  "nbformat": 4,
  "nbformat_minor": 0,
  "metadata": {
    "colab": {
      "name": "until_becomes_1.ipynb",
      "provenance": [],
      "authorship_tag": "ABX9TyM+0ab8hwLgAKmPrwlpBLDa"
    },
    "kernelspec": {
      "name": "python3",
      "display_name": "Python 3"
    },
    "language_info": {
      "name": "python"
    }
  },
  "cells": [
    {
      "cell_type": "code",
      "execution_count": 4,
      "metadata": {
        "colab": {
          "base_uri": "https://localhost:8080/"
        },
        "id": "AD6HvtdY35ob",
        "outputId": "70efb23d-c75f-41d4-cfe7-07f206a08846"
      },
      "outputs": [
        {
          "name": "stdout",
          "output_type": "stream",
          "text": [
            "31 4\n"
          ]
        }
      ],
      "source": [
        "n, k = map(int, input().split())"
      ]
    },
    {
      "cell_type": "code",
      "source": [
        "count = 0\n",
        "\n",
        "while n >= k:\n",
        "  while n % k != 0:\n",
        "    n -= 1\n",
        "    count += 1\n",
        "  n //= k\n",
        "  count += 1\n",
        "\n",
        "while n > 1:\n",
        "  n -= 1\n",
        "  count += 1\n",
        "\n",
        "print(count)"
      ],
      "metadata": {
        "colab": {
          "base_uri": "https://localhost:8080/"
        },
        "id": "zK5EcKiC60Om",
        "outputId": "c34b1108-151b-4c57-fd57-9a10e89c6576"
      },
      "execution_count": 5,
      "outputs": [
        {
          "output_type": "stream",
          "name": "stdout",
          "text": [
            "8\n"
          ]
        }
      ]
    },
    {
      "cell_type": "code",
      "source": [
        ""
      ],
      "metadata": {
        "id": "dCDzbIAm7RoD"
      },
      "execution_count": null,
      "outputs": []
    }
  ]
}