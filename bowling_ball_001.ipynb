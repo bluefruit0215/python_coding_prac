{
  "nbformat": 4,
  "nbformat_minor": 0,
  "metadata": {
    "colab": {
      "name": "bowling ball_001.ipynb",
      "provenance": [],
      "authorship_tag": "ABX9TyMP2AVThgECre/zQX7irEEC"
    },
    "kernelspec": {
      "name": "python3",
      "display_name": "Python 3"
    },
    "language_info": {
      "name": "python"
    }
  },
  "cells": [
    {
      "cell_type": "code",
      "execution_count": 4,
      "metadata": {
        "colab": {
          "base_uri": "https://localhost:8080/"
        },
        "id": "yIioFAgAvP7n",
        "outputId": "40df79a5-065a-4394-e2d5-d6d91ac92178"
      },
      "outputs": [
        {
          "name": "stdout",
          "output_type": "stream",
          "text": [
            "8 5\n"
          ]
        }
      ],
      "source": [
        "n, m = map(int, input().split())"
      ]
    },
    {
      "cell_type": "code",
      "source": [
        "ball_list = list(map(int, input().split()))\n"
      ],
      "metadata": {
        "colab": {
          "base_uri": "https://localhost:8080/"
        },
        "id": "VJNdLKpOw6rH",
        "outputId": "1db2be12-38cc-42e9-c6e4-cc582aae8af3"
      },
      "execution_count": 5,
      "outputs": [
        {
          "name": "stdout",
          "output_type": "stream",
          "text": [
            "1 5 4 3 2 4 5 2\n"
          ]
        }
      ]
    },
    {
      "cell_type": "code",
      "source": [
        "result = 0\n",
        "\n",
        "for i in range(len(ball_list) - 1):\n",
        "  for j in range(i, len(ball_list)):\n",
        "      if ball_list[i] != ball_list[j]:\n",
        "        result += 1\n",
        "\n",
        "print(result)"
      ],
      "metadata": {
        "colab": {
          "base_uri": "https://localhost:8080/"
        },
        "id": "d7ydhLcYxLCG",
        "outputId": "88eafafc-9c93-460f-ee08-08814122e09c"
      },
      "execution_count": 6,
      "outputs": [
        {
          "output_type": "stream",
          "name": "stdout",
          "text": [
            "25\n"
          ]
        }
      ]
    },
    {
      "cell_type": "code",
      "source": [
        ""
      ],
      "metadata": {
        "id": "5AaC7ZlmyC70"
      },
      "execution_count": null,
      "outputs": []
    }
  ]
}