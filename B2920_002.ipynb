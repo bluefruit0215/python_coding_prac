{
  "nbformat": 4,
  "nbformat_minor": 0,
  "metadata": {
    "colab": {
      "name": "B2920_002.ipynb",
      "provenance": [],
      "authorship_tag": "ABX9TyNF70rypKxAEZKs/3j2S61l",
      "include_colab_link": true
    },
    "kernelspec": {
      "name": "python3",
      "display_name": "Python 3"
    },
    "language_info": {
      "name": "python"
    }
  },
  "cells": [
    {
      "cell_type": "markdown",
      "metadata": {
        "id": "view-in-github",
        "colab_type": "text"
      },
      "source": [
        "<a href=\"https://colab.research.google.com/github/bluefruit0215/python_coding_prac/blob/main/B2920_002.ipynb\" target=\"_parent\"><img src=\"https://colab.research.google.com/assets/colab-badge.svg\" alt=\"Open In Colab\"/></a>"
      ]
    },
    {
      "cell_type": "code",
      "metadata": {
        "colab": {
          "base_uri": "https://localhost:8080/"
        },
        "id": "XRMa7lG13mRD",
        "outputId": "15afcf36-ed60-47d8-d168-d424dd3efbe6"
      },
      "source": [
        "nums = list(map(int, input().split()))"
      ],
      "execution_count": 1,
      "outputs": [
        {
          "name": "stdout",
          "output_type": "stream",
          "text": [
            "8 7 6 5 4 3 2 1\n"
          ]
        }
      ]
    },
    {
      "cell_type": "code",
      "metadata": {
        "colab": {
          "base_uri": "https://localhost:8080/"
        },
        "id": "M75ond2F3u3I",
        "outputId": "c0a70467-9eb8-4501-adbd-7ee02794e899"
      },
      "source": [
        "nums"
      ],
      "execution_count": 2,
      "outputs": [
        {
          "output_type": "execute_result",
          "data": {
            "text/plain": [
              "[8, 7, 6, 5, 4, 3, 2, 1]"
            ]
          },
          "metadata": {},
          "execution_count": 2
        }
      ]
    },
    {
      "cell_type": "code",
      "metadata": {
        "colab": {
          "base_uri": "https://localhost:8080/"
        },
        "id": "kqv9Wa7_5NRe",
        "outputId": "e1fc3ecc-8618-4411-d0f5-0e53628c3f25"
      },
      "source": [
        "ascending = True\n",
        "descending = True\n",
        "\n",
        "for i in range(len(nums)  - 1):\n",
        "  if nums[i] < nums[i + 1]:\n",
        "    descending = False\n",
        "  elif nums[i] > nums[i + 1]:\n",
        "    ascending = False\n",
        "\n",
        "if ascending:\n",
        "  print('ascending')\n",
        "elif descending:\n",
        "  print('descending')\n",
        "else:\n",
        "  print('mixed')"
      ],
      "execution_count": 5,
      "outputs": [
        {
          "output_type": "stream",
          "name": "stdout",
          "text": [
            "descending\n"
          ]
        }
      ]
    },
    {
      "cell_type": "code",
      "metadata": {
        "id": "kI3sO8bj5uts"
      },
      "source": [
        ""
      ],
      "execution_count": null,
      "outputs": []
    }
  ]
}