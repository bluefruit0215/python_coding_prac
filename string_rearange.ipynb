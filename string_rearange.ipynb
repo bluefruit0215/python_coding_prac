{
  "nbformat": 4,
  "nbformat_minor": 0,
  "metadata": {
    "colab": {
      "name": "string_rearange.ipynb",
      "provenance": [],
      "authorship_tag": "ABX9TyMPKJ/FMv33KRVlDADEnAWR"
    },
    "kernelspec": {
      "name": "python3",
      "display_name": "Python 3"
    },
    "language_info": {
      "name": "python"
    }
  },
  "cells": [
    {
      "cell_type": "code",
      "execution_count": 17,
      "metadata": {
        "colab": {
          "base_uri": "https://localhost:8080/"
        },
        "id": "oWQS5rRtpSQO",
        "outputId": "227f148d-bcee-44e5-e892-f56c9ce8f430"
      },
      "outputs": [
        {
          "name": "stdout",
          "output_type": "stream",
          "text": [
            "AJKDLSI412K4JSJ9D\n"
          ]
        }
      ],
      "source": [
        "s = input()"
      ]
    },
    {
      "cell_type": "code",
      "source": [
        "num_list = []\n",
        "string_list = []\n",
        "\n",
        "for i in s:\n",
        "  if i >= '0'  and i <= '9':\n",
        "    num_list.append(int(i))\n",
        "  else:\n",
        "    string_list.append(i)\n",
        "\n",
        "string_list.sort()\n",
        "sum_of_num = sum(num_list)\n",
        "\n",
        "print(''.join(string_list) + str(sum_of_num))"
      ],
      "metadata": {
        "colab": {
          "base_uri": "https://localhost:8080/"
        },
        "id": "fdPq9GY-p4tp",
        "outputId": "d1069c41-2d26-498c-8320-9a83f882332b"
      },
      "execution_count": 18,
      "outputs": [
        {
          "output_type": "stream",
          "name": "stdout",
          "text": [
            "ADDIJJJKKLSS20\n"
          ]
        }
      ]
    },
    {
      "cell_type": "code",
      "source": [
        ""
      ],
      "metadata": {
        "id": "kEWBawdYp1Cz"
      },
      "execution_count": null,
      "outputs": []
    }
  ]
}