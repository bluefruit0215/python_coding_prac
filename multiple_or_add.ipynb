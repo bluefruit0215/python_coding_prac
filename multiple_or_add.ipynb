{
  "nbformat": 4,
  "nbformat_minor": 0,
  "metadata": {
    "colab": {
      "name": "multiple_or_add.ipynb",
      "provenance": [],
      "authorship_tag": "ABX9TyOYMtCWHyo+/SrjJ2izgtai"
    },
    "kernelspec": {
      "name": "python3",
      "display_name": "Python 3"
    },
    "language_info": {
      "name": "python"
    }
  },
  "cells": [
    {
      "cell_type": "code",
      "execution_count": 22,
      "metadata": {
        "colab": {
          "base_uri": "https://localhost:8080/"
        },
        "id": "_7xFstDJKTO2",
        "outputId": "f1c91785-3b92-4f2c-dc41-6b16a04bc261"
      },
      "outputs": [
        {
          "name": "stdout",
          "output_type": "stream",
          "text": [
            "02984\n"
          ]
        }
      ],
      "source": [
        "number_list = input()"
      ]
    },
    {
      "cell_type": "code",
      "source": [
        "result = 0\n",
        "\n",
        "for num in number_list:\n",
        "  num = int(num)\n",
        "  if result <= 0 or num == 0 or num == 1:\n",
        "    result = result + num\n",
        "  else:\n",
        "    result = result * num\n",
        "\n",
        "print(result)"
      ],
      "metadata": {
        "colab": {
          "base_uri": "https://localhost:8080/"
        },
        "id": "M4OaEDfnKwMc",
        "outputId": "b4cb961b-869b-4a80-c5eb-4bf72d0ce9e9"
      },
      "execution_count": 23,
      "outputs": [
        {
          "output_type": "stream",
          "name": "stdout",
          "text": [
            "576\n"
          ]
        }
      ]
    },
    {
      "cell_type": "code",
      "source": [
        ""
      ],
      "metadata": {
        "id": "_0nn2JSAMdE6"
      },
      "execution_count": null,
      "outputs": []
    }
  ]
}