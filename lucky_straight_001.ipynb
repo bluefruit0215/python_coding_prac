{
  "nbformat": 4,
  "nbformat_minor": 0,
  "metadata": {
    "colab": {
      "name": "lucky_straight_001.ipynb",
      "provenance": [],
      "authorship_tag": "ABX9TyOBayir/j5wtmSbDQRHwGQX"
    },
    "kernelspec": {
      "name": "python3",
      "display_name": "Python 3"
    },
    "language_info": {
      "name": "python"
    }
  },
  "cells": [
    {
      "cell_type": "code",
      "execution_count": 2,
      "metadata": {
        "colab": {
          "base_uri": "https://localhost:8080/"
        },
        "id": "EATp7m3nGEvh",
        "outputId": "02a3199e-9c7d-42c4-85b9-86cbbce3d703"
      },
      "outputs": [
        {
          "name": "stdout",
          "output_type": "stream",
          "text": [
            "123402\n"
          ]
        }
      ],
      "source": [
        "n = int(input())"
      ]
    },
    {
      "cell_type": "code",
      "source": [
        "n = str(n)\n",
        "left_num = n[:len(n)//2]\n",
        "right_num = n[len(n)//2:]\n",
        "\n",
        "left_sum = 0\n",
        "right_sum = 0\n",
        "\n",
        "for l, r in zip(left_num, right_num):\n",
        "  left_sum += int(l)\n",
        "  right_sum += int(r)\n",
        "\n",
        "if left_sum == right_sum:\n",
        "  print(\"LUCKY\")\n",
        "else:\n",
        "  print(\"READY\")"
      ],
      "metadata": {
        "colab": {
          "base_uri": "https://localhost:8080/"
        },
        "id": "Yh2aQ4sfGTim",
        "outputId": "d4960589-5620-4491-c86f-0f79e6e8b8cc"
      },
      "execution_count": 4,
      "outputs": [
        {
          "output_type": "stream",
          "name": "stdout",
          "text": [
            "LUCKY\n"
          ]
        }
      ]
    },
    {
      "cell_type": "code",
      "source": [
        ""
      ],
      "metadata": {
        "id": "etkT-5MZHRj2"
      },
      "execution_count": null,
      "outputs": []
    }
  ]
}