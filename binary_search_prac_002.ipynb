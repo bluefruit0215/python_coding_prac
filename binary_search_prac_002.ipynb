{
  "nbformat": 4,
  "nbformat_minor": 0,
  "metadata": {
    "colab": {
      "name": "binary_search_prac_002.ipynb",
      "provenance": [],
      "authorship_tag": "ABX9TyMVUDh19/I8yqIElmqkJa+Q"
    },
    "kernelspec": {
      "name": "python3",
      "display_name": "Python 3"
    },
    "language_info": {
      "name": "python"
    }
  },
  "cells": [
    {
      "cell_type": "code",
      "execution_count": null,
      "metadata": {
        "id": "2qWIeBWdg_WT"
      },
      "outputs": [],
      "source": [
        "def binary_search(arr, target, start, end):\n",
        "  if start > end:\n",
        "    return None\n",
        "  mid = (start + end) // 2\n",
        "  \n",
        "  if arr[mid] == target:\n",
        "    return mid\n",
        "  elif arr[mid] > target:\n",
        "    return binary_search(arr, target, start, mid - 1)\n",
        "  else:\n",
        "    return binary_search(arr, target, mid+1, end)\n",
        "\n"
      ]
    },
    {
      "cell_type": "code",
      "source": [
        "n, target = list(map(int, input().split()))\n",
        "\n",
        "array = list(map(int, input().split()))\n",
        "\n",
        "result = binary_search(array, target, 0, n-1)\n",
        "\n",
        "if result == None:\n",
        "  print(\"false\")\n",
        "else:\n",
        "  print(result + 1)"
      ],
      "metadata": {
        "colab": {
          "base_uri": "https://localhost:8080/"
        },
        "id": "792-LwJ8hjBt",
        "outputId": "56e36178-c22a-4233-f44b-7bd53694f5a7"
      },
      "execution_count": null,
      "outputs": [
        {
          "output_type": "stream",
          "name": "stdout",
          "text": [
            "10 7\n",
            "1 3 5 7 9 11 13 15 17 19\n",
            "4\n"
          ]
        }
      ]
    },
    {
      "cell_type": "code",
      "source": [
        ""
      ],
      "metadata": {
        "id": "izARX5vvh0JT"
      },
      "execution_count": null,
      "outputs": []
    }
  ]
}