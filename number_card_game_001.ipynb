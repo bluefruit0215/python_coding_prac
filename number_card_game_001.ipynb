{
  "nbformat": 4,
  "nbformat_minor": 0,
  "metadata": {
    "colab": {
      "name": "number_card_game_001.ipynb",
      "provenance": [],
      "authorship_tag": "ABX9TyNUwozhKi/r+WI1T0J1GElE"
    },
    "kernelspec": {
      "name": "python3",
      "display_name": "Python 3"
    },
    "language_info": {
      "name": "python"
    }
  },
  "cells": [
    {
      "cell_type": "code",
      "execution_count": 5,
      "metadata": {
        "colab": {
          "base_uri": "https://localhost:8080/"
        },
        "id": "MLUtbMV6156I",
        "outputId": "72bb641e-e1a7-4895-825a-15f7f5e6a454"
      },
      "outputs": [
        {
          "name": "stdout",
          "output_type": "stream",
          "text": [
            "2 4\n"
          ]
        }
      ],
      "source": [
        "n, m = map(int, input().split())"
      ]
    },
    {
      "cell_type": "code",
      "source": [
        "input_list = []\n",
        "min_list = []\n",
        "for i in range(n):\n",
        "  input_list = list(map(int, input().split()))\n",
        "  min_list.append(min(input_list))\n",
        "\n",
        "min_list.sort()\n",
        "print(min_list[-1])"
      ],
      "metadata": {
        "colab": {
          "base_uri": "https://localhost:8080/"
        },
        "id": "85jVrJC92F_W",
        "outputId": "7236112d-8063-4d65-9de8-efc10896779f"
      },
      "execution_count": 6,
      "outputs": [
        {
          "output_type": "stream",
          "name": "stdout",
          "text": [
            "7 3 1 8\n",
            "3 3 3 4\n",
            "3\n"
          ]
        }
      ]
    },
    {
      "cell_type": "code",
      "source": [
        ""
      ],
      "metadata": {
        "id": "uC0CyqAn24TQ"
      },
      "execution_count": null,
      "outputs": []
    }
  ]
}