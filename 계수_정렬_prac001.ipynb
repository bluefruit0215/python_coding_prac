{
  "nbformat": 4,
  "nbformat_minor": 0,
  "metadata": {
    "colab": {
      "name": "계수 정렬_prac001.ipynb",
      "provenance": [],
      "authorship_tag": "ABX9TyO4mEqrrcYBJq3QJo/q9ed2"
    },
    "kernelspec": {
      "name": "python3",
      "display_name": "Python 3"
    },
    "language_info": {
      "name": "python"
    }
  },
  "cells": [
    {
      "cell_type": "code",
      "execution_count": 2,
      "metadata": {
        "colab": {
          "base_uri": "https://localhost:8080/"
        },
        "id": "hIq6FWlYfugp",
        "outputId": "4a1dc092-d23b-469c-a229-85a60cbc9b73"
      },
      "outputs": [
        {
          "output_type": "stream",
          "name": "stdout",
          "text": [
            "0 1 2 2 2 3 3 5 5 6 7 8 8 8 9 9 9 12 14 15 "
          ]
        }
      ],
      "source": [
        "array = [7, 5, 9, 0, 3, 1, 2, 2, 9, 8, 8, 9, 6, 5, 2, 3, 12, 15, 8, 14]\n",
        "\n",
        "count = [0] * (max(array) + 1)\n",
        "\n",
        "for i in range(len(array)):\n",
        "  count[array[i]] += 1\n",
        "\n",
        "for i in range(len(count)):\n",
        "  for j in range(count[i]):\n",
        "    print(i, end=' ')"
      ]
    },
    {
      "cell_type": "code",
      "source": [
        ""
      ],
      "metadata": {
        "id": "XthTMgbNgM1H"
      },
      "execution_count": null,
      "outputs": []
    }
  ]
}