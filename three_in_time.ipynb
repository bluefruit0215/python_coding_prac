{
  "nbformat": 4,
  "nbformat_minor": 0,
  "metadata": {
    "colab": {
      "name": "three_in_time.ipynb",
      "provenance": [],
      "authorship_tag": "ABX9TyMGA6KwR9fTuXpDoL6Jzn+J"
    },
    "kernelspec": {
      "name": "python3",
      "display_name": "Python 3"
    },
    "language_info": {
      "name": "python"
    }
  },
  "cells": [
    {
      "cell_type": "code",
      "execution_count": 1,
      "metadata": {
        "colab": {
          "base_uri": "https://localhost:8080/"
        },
        "id": "7lNNB-EiU6nm",
        "outputId": "7eb451bb-0b35-48bd-fe01-de4a374be939"
      },
      "outputs": [
        {
          "name": "stdout",
          "output_type": "stream",
          "text": [
            "5\n"
          ]
        }
      ],
      "source": [
        "n = int(input())"
      ]
    },
    {
      "cell_type": "code",
      "source": [
        "count = 0\n",
        "for i in range(0, n+1):\n",
        "  if '3' in str(i):\n",
        "    count += 3600\n",
        "    continue\n",
        "  for j in range(60):\n",
        "    if '3' in str(j):\n",
        "      count += 60\n",
        "      continue\n",
        "    for k in range(60):\n",
        "      if '3' in str(k):\n",
        "        count += 1\n",
        "print(count)"
      ],
      "metadata": {
        "colab": {
          "base_uri": "https://localhost:8080/"
        },
        "id": "D3rA_fQ9VS8p",
        "outputId": "a56d2411-a7d0-44de-a533-a22d04812e90"
      },
      "execution_count": 5,
      "outputs": [
        {
          "output_type": "stream",
          "name": "stdout",
          "text": [
            "11475\n"
          ]
        }
      ]
    },
    {
      "cell_type": "code",
      "source": [
        ""
      ],
      "metadata": {
        "id": "iTcl92t-XgEA"
      },
      "execution_count": null,
      "outputs": []
    }
  ]
}