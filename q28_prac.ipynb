{
  "nbformat": 4,
  "nbformat_minor": 0,
  "metadata": {
    "colab": {
      "name": "q28_prac.ipynb",
      "provenance": [],
      "authorship_tag": "ABX9TyNf29iUqoWCF4eLUrG0i5GK"
    },
    "kernelspec": {
      "name": "python3",
      "display_name": "Python 3"
    },
    "language_info": {
      "name": "python"
    }
  },
  "cells": [
    {
      "cell_type": "code",
      "execution_count": 1,
      "metadata": {
        "colab": {
          "base_uri": "https://localhost:8080/"
        },
        "id": "lyeUiLs0hw9S",
        "outputId": "d8eb5341-e232-42a4-b33e-9ccc817e9cbf"
      },
      "outputs": [
        {
          "name": "stdout",
          "output_type": "stream",
          "text": [
            "5\n"
          ]
        }
      ],
      "source": [
        "n = int(input())"
      ]
    },
    {
      "cell_type": "code",
      "source": [
        "nums = list(map(int, input().split()))"
      ],
      "metadata": {
        "colab": {
          "base_uri": "https://localhost:8080/"
        },
        "id": "QoB-ZNYZiMzq",
        "outputId": "3e0eff98-bdf7-4e0f-942c-3ad43933a5a5"
      },
      "execution_count": 2,
      "outputs": [
        {
          "name": "stdout",
          "output_type": "stream",
          "text": [
            "-15 -6 1 3 7\n"
          ]
        }
      ]
    },
    {
      "cell_type": "code",
      "source": [
        "def binary_search(array, start, end):\n",
        "  if start > end:\n",
        "    return None\n",
        "  mid = (start + end) // 2\n",
        "  if array[mid] == mid:\n",
        "    return mid\n",
        "  elif array[mid] > mid:\n",
        "    return binary_search(array, start, mid-1)\n",
        "  else:\n",
        "    return binary_search(array, mid+1, end)\n",
        "\n",
        "index = binary_search(nums, 0, n-1)\n",
        "\n",
        "if index == None:\n",
        "  print(-1)\n",
        "else:\n",
        "  print(index)"
      ],
      "metadata": {
        "colab": {
          "base_uri": "https://localhost:8080/"
        },
        "id": "7AnWtGf4i1nm",
        "outputId": "5c1a96c6-7de1-4656-b1de-dd716f005baa"
      },
      "execution_count": 5,
      "outputs": [
        {
          "output_type": "stream",
          "name": "stdout",
          "text": [
            "3\n"
          ]
        }
      ]
    },
    {
      "cell_type": "code",
      "source": [
        ""
      ],
      "metadata": {
        "id": "czXWlP5LlqqY"
      },
      "execution_count": null,
      "outputs": []
    }
  ]
}