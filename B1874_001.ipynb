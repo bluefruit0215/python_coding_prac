{
  "nbformat": 4,
  "nbformat_minor": 0,
  "metadata": {
    "colab": {
      "name": "B1874_001.ipynb",
      "provenance": [],
      "authorship_tag": "ABX9TyOBXXkBsCnwqW1CSy3DZ7Yt"
    },
    "kernelspec": {
      "name": "python3",
      "display_name": "Python 3"
    },
    "language_info": {
      "name": "python"
    }
  },
  "cells": [
    {
      "cell_type": "code",
      "metadata": {
        "colab": {
          "base_uri": "https://localhost:8080/"
        },
        "id": "LGr-BxidVHR6",
        "outputId": "50fc4969-4dcd-4258-ded3-d3c2b24d5a57"
      },
      "source": [
        "n = int(input())"
      ],
      "execution_count": 7,
      "outputs": [
        {
          "name": "stdout",
          "output_type": "stream",
          "text": [
            "5\n"
          ]
        }
      ]
    },
    {
      "cell_type": "code",
      "metadata": {
        "colab": {
          "base_uri": "https://localhost:8080/"
        },
        "id": "iXLWATSlszAO",
        "outputId": "27f82b8c-f66b-4f87-f7d5-61fab47a22e1"
      },
      "source": [
        "nums = []\n",
        "for i in range(n):\n",
        "  num = int(input())\n",
        "  nums.append(num)"
      ],
      "execution_count": 8,
      "outputs": [
        {
          "name": "stdout",
          "output_type": "stream",
          "text": [
            "1\n",
            "2\n",
            "5\n",
            "3\n",
            "4\n"
          ]
        }
      ]
    },
    {
      "cell_type": "code",
      "metadata": {
        "colab": {
          "base_uri": "https://localhost:8080/"
        },
        "id": "BpK8AsOyWGH8",
        "outputId": "0215e6d0-9e72-48fb-a169-648b4ff4d0f7"
      },
      "source": [
        "\n",
        "count = 1\n",
        "result_stack = []\n",
        "value_stack = []\n",
        "flag = True\n",
        "for n in nums:\n",
        "  while count <= n:\n",
        "    result_stack.append('+')\n",
        "    value_stack.append(count)\n",
        "    count += 1\n",
        "  if n == value_stack[-1]:\n",
        "    value_stack.pop()\n",
        "    result_stack.append('-')\n",
        "    continue\n",
        "  else:\n",
        "    flag = False\n",
        "    break\n",
        "if flag:\n",
        "  print('\\n'.join(result_stack))\n",
        "else:\n",
        "  print('NO')"
      ],
      "execution_count": 9,
      "outputs": [
        {
          "output_type": "stream",
          "name": "stdout",
          "text": [
            "NO\n"
          ]
        }
      ]
    },
    {
      "cell_type": "code",
      "metadata": {
        "id": "KmpSMRiZbn_n"
      },
      "source": [
        ""
      ],
      "execution_count": null,
      "outputs": []
    }
  ]
}