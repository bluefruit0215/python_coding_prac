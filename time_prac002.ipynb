{
  "nbformat": 4,
  "nbformat_minor": 0,
  "metadata": {
    "colab": {
      "name": "time_prac002.ipynb",
      "provenance": [],
      "authorship_tag": "ABX9TyO7Qa4K+hXKmgBMpqq7zrP1"
    },
    "kernelspec": {
      "name": "python3",
      "display_name": "Python 3"
    },
    "language_info": {
      "name": "python"
    }
  },
  "cells": [
    {
      "cell_type": "code",
      "metadata": {
        "id": "q2EAD1O2qBjb",
        "colab": {
          "base_uri": "https://localhost:8080/"
        },
        "outputId": "8a04891f-a53f-4324-fd5f-972c2736eb4e"
      },
      "source": [
        "hour = int(input())\n",
        "\n",
        "result = 0\n",
        "for i in range(hour + 1):\n",
        "  for j in range(60):\n",
        "    for k in range(60):\n",
        "      if '3' in str(i) + str(j) + str(k):\n",
        "        result += 1\n",
        "\n",
        "print(result)"
      ],
      "execution_count": 2,
      "outputs": [
        {
          "output_type": "stream",
          "name": "stdout",
          "text": [
            "5\n",
            "11475\n"
          ]
        }
      ]
    },
    {
      "cell_type": "code",
      "source": [
        ""
      ],
      "metadata": {
        "id": "1bZbOuXZNFxU"
      },
      "execution_count": null,
      "outputs": []
    }
  ]
}