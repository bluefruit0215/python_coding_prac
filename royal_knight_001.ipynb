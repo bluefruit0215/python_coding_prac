{
  "nbformat": 4,
  "nbformat_minor": 0,
  "metadata": {
    "colab": {
      "name": "royal_knight_001.ipynb",
      "provenance": [],
      "authorship_tag": "ABX9TyM39mPu/ndZFETQBcOoeRkj"
    },
    "kernelspec": {
      "name": "python3",
      "display_name": "Python 3"
    },
    "language_info": {
      "name": "python"
    }
  },
  "cells": [
    {
      "cell_type": "code",
      "execution_count": 13,
      "metadata": {
        "colab": {
          "base_uri": "https://localhost:8080/"
        },
        "id": "DSkDna1IxliC",
        "outputId": "f98050ad-1c53-46b4-b192-3e209dd362a2"
      },
      "outputs": [
        {
          "name": "stdout",
          "output_type": "stream",
          "text": [
            "e1\n"
          ]
        }
      ],
      "source": [
        "start_point = input()"
      ]
    },
    {
      "cell_type": "code",
      "source": [
        "start_x = start_point[0]\n",
        "start_y = int(start_point[1])\n",
        "\n",
        "x_dic = {'a' : 1, 'b' : 2, 'c' : 3, 'd' : 4, 'e' : 5, 'f': 6, 'g' : 7, 'h' : 8}\n",
        "\n",
        "start_x = x_dic[start_x]\n",
        "\n",
        "d_point = [(-2, -1), (-1, -2), (1, -2), (2, -1), (-2, 1), (-1, 2), (1, 2), (2, 1)]\n",
        "count = 0\n",
        "\n",
        "for d in d_point:\n",
        "  x_temp = start_x + d[0]\n",
        "  y_temp = start_y + d[1]\n",
        "\n",
        "  if x_temp < 1 or x_temp > 8 or y_temp < 1 or y_temp >8:\n",
        "    continue\n",
        "  count += 1\n",
        "\n",
        "print(count)"
      ],
      "metadata": {
        "colab": {
          "base_uri": "https://localhost:8080/"
        },
        "id": "WVw29NWYzHgc",
        "outputId": "4b2f1914-9875-4a65-d60a-25598f7adf48"
      },
      "execution_count": 14,
      "outputs": [
        {
          "output_type": "stream",
          "name": "stdout",
          "text": [
            "4\n"
          ]
        }
      ]
    },
    {
      "cell_type": "code",
      "source": [
        ""
      ],
      "metadata": {
        "id": "er_j-LNjzngr"
      },
      "execution_count": null,
      "outputs": []
    }
  ]
}