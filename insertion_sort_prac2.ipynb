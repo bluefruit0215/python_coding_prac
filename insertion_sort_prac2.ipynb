{
  "nbformat": 4,
  "nbformat_minor": 0,
  "metadata": {
    "colab": {
      "name": "insertion_sort_prac2.ipynb",
      "provenance": [],
      "authorship_tag": "ABX9TyPT4gGwixUY8J87n37Fss2q"
    },
    "kernelspec": {
      "name": "python3",
      "display_name": "Python 3"
    },
    "language_info": {
      "name": "python"
    }
  },
  "cells": [
    {
      "cell_type": "code",
      "execution_count": 2,
      "metadata": {
        "colab": {
          "base_uri": "https://localhost:8080/"
        },
        "id": "_jFHAcXkt8iF",
        "outputId": "5b60f90d-620c-49fd-cf19-3a2a9cf2e438"
      },
      "outputs": [
        {
          "output_type": "stream",
          "name": "stdout",
          "text": [
            "[2, 3, 5, 6, 8, 9, 10]\n"
          ]
        }
      ],
      "source": [
        "array = [2, 6, 8, 3, 9, 10, 5]\n",
        "\n",
        "for i in range(1, len(array)):\n",
        "  for j in range(i, 0, -1):\n",
        "    if array[j] < array[j-1]:\n",
        "      array[j], array[j-1] = array[j-1], array[j]\n",
        "    else:\n",
        "      break\n",
        "print(array)"
      ]
    },
    {
      "cell_type": "code",
      "source": [
        ""
      ],
      "metadata": {
        "id": "i5rKqlKtuWI2"
      },
      "execution_count": null,
      "outputs": []
    }
  ]
}