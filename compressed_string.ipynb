{
  "nbformat": 4,
  "nbformat_minor": 0,
  "metadata": {
    "colab": {
      "name": "compressed_string.ipynb",
      "provenance": [],
      "authorship_tag": "ABX9TyMYZshIO9xBr4Khtgf6RD9+"
    },
    "kernelspec": {
      "name": "python3",
      "display_name": "Python 3"
    },
    "language_info": {
      "name": "python"
    }
  },
  "cells": [
    {
      "cell_type": "code",
      "execution_count": 1,
      "metadata": {
        "id": "zemZL_fP6rug"
      },
      "outputs": [],
      "source": [
        "def solution(s):\n",
        "    \n",
        "    answer = len(s)\n",
        "    len_of_s = len(s)\n",
        "    \n",
        "    \n",
        "    for i in range(1, len_of_s // 2 + 1):\n",
        "        current_str = s[:i]\n",
        "        result_str = \"\"\n",
        "        multiple_str = 1\n",
        "        for j in range(i, len_of_s, i):\n",
        "            if current_str == s[j:j+i]:\n",
        "                multiple_str += 1\n",
        "            elif current_str != s[j:j+i]:\n",
        "                if multiple_str >= 2:\n",
        "                    result_str += str(multiple_str) + current_str\n",
        "                else:\n",
        "                    result_str += current_str\n",
        "                multiple_str = 1\n",
        "                current_str = s[j:j+i]\n",
        "                \n",
        "        if multiple_str >= 2:\n",
        "            result_str += str(multiple_str) + current_str\n",
        "        else:\n",
        "            result_str += current_str \n",
        "            \n",
        "        answer = min(answer, len(result_str))\n",
        "                    \n",
        "    return answer"
      ]
    },
    {
      "cell_type": "code",
      "source": [
        "solution('xababcdcdababcdcd')"
      ],
      "metadata": {
        "colab": {
          "base_uri": "https://localhost:8080/"
        },
        "id": "gznBXXbU7m9L",
        "outputId": "e462d1da-014c-479d-fc91-a7b81a3440ac"
      },
      "execution_count": 2,
      "outputs": [
        {
          "output_type": "execute_result",
          "data": {
            "text/plain": [
              "17"
            ]
          },
          "metadata": {},
          "execution_count": 2
        }
      ]
    },
    {
      "cell_type": "code",
      "source": [
        ""
      ],
      "metadata": {
        "id": "7l96vos77wop"
      },
      "execution_count": null,
      "outputs": []
    }
  ]
}