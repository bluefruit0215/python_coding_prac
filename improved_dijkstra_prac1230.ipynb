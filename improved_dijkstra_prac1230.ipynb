{
  "nbformat": 4,
  "nbformat_minor": 0,
  "metadata": {
    "colab": {
      "name": "improved_dijkstra_prac1230.ipynb",
      "provenance": [],
      "collapsed_sections": [],
      "authorship_tag": "ABX9TyPzKRd9EfOL6rUTh2XkWwqh"
    },
    "kernelspec": {
      "name": "python3",
      "display_name": "Python 3"
    },
    "language_info": {
      "name": "python"
    }
  },
  "cells": [
    {
      "cell_type": "code",
      "execution_count": null,
      "metadata": {
        "id": "QlFadWfSNIPj"
      },
      "outputs": [],
      "source": [
        "import heapq\n",
        "import sys\n",
        "input = sys.stdin.readline\n",
        "\n",
        "INF = int(1e9)\n",
        "\n",
        "n, m = map(int, input().split())\n",
        "start = int(input())\n",
        "\n",
        "graph = [[] for i in range(n+1)]\n",
        "distance = [INF] * (n + 1)\n",
        "\n",
        "for _ in range(m):\n",
        "  a, b, c = map(int, input().split())\n",
        "  graph[a].append((b, c))\n",
        "\n",
        "def dijkstra(start):\n",
        "  q = []\n",
        "\n",
        "  heapq.heappush(q, (0, start))\n",
        "  distance[start] = 0\n",
        "  while q:\n",
        "    dist, now = heapq.heappop(q)\n",
        "\n",
        "    if distance[now] < dist:\n",
        "      continue\n",
        "    for i in graph[now]:\n",
        "      cost = dist + i[1]\n",
        "\n",
        "      if cost < distance[i[0]]:\n",
        "        distance[i[0]] = cost\n",
        "        heapq.heappush(q, (cost, i[0]))\n",
        "\n",
        "dijkstra(start)\n",
        "\n",
        "for i in range(1, n+1):\n",
        "  if distance[i] == INF:\n",
        "    print(\"INFINITY\")\n",
        "  else:\n",
        "    print(distance[i])"
      ]
    }
  ]
}