{
  "nbformat": 4,
  "nbformat_minor": 0,
  "metadata": {
    "colab": {
      "name": "quick sort_prac001.ipynb",
      "provenance": [],
      "authorship_tag": "ABX9TyMzudof4p39s+YIub9KGKWj"
    },
    "kernelspec": {
      "name": "python3",
      "display_name": "Python 3"
    },
    "language_info": {
      "name": "python"
    }
  },
  "cells": [
    {
      "cell_type": "code",
      "execution_count": 1,
      "metadata": {
        "colab": {
          "base_uri": "https://localhost:8080/"
        },
        "id": "vv71BxF1grP3",
        "outputId": "2beb19a7-aa62-4910-e288-c21ed6870e45"
      },
      "outputs": [
        {
          "output_type": "stream",
          "name": "stdout",
          "text": [
            "[1, 2, 3, 6, 8, 9, 10, 11, 12, 14]\n"
          ]
        }
      ],
      "source": [
        "array = [3, 10, 12, 14, 2, 1, 8, 9, 11, 6]\n",
        "\n",
        "def quick_sort(array, start, end):\n",
        "  if start >= end:\n",
        "    return\n",
        "  pivot = start\n",
        "  left = start + 1\n",
        "  right = end\n",
        "  while left <= right:\n",
        "    while left <= end and array[left] <= array[pivot]:\n",
        "      left += 1\n",
        "    while right > start and array[right] >= array[pivot]:\n",
        "      right -= 1\n",
        "    if left > right:\n",
        "      array[right], array[pivot] = array[pivot], array[right]\n",
        "\n",
        "    else:\n",
        "      array[left], array[right] = array[right], array[left]\n",
        "    \n",
        "    quick_sort(array, start, right - 1)\n",
        "    quick_sort(array, right + 1, end)\n",
        "\n",
        "quick_sort(array, 0, len(array) - 1)\n",
        "print(array)"
      ]
    },
    {
      "cell_type": "code",
      "source": [
        ""
      ],
      "metadata": {
        "id": "uRRuxzHthkt2"
      },
      "execution_count": null,
      "outputs": []
    }
  ]
}