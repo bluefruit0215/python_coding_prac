{
  "nbformat": 4,
  "nbformat_minor": 0,
  "metadata": {
    "colab": {
      "name": "q27_prac.ipynb",
      "provenance": [],
      "authorship_tag": "ABX9TyNAMRp0u5EbpHiz9XzI1CNi"
    },
    "kernelspec": {
      "name": "python3",
      "display_name": "Python 3"
    },
    "language_info": {
      "name": "python"
    }
  },
  "cells": [
    {
      "cell_type": "code",
      "execution_count": 1,
      "metadata": {
        "colab": {
          "base_uri": "https://localhost:8080/"
        },
        "id": "ibFQpeJkbRjP",
        "outputId": "47c8831c-1824-480f-a608-2368a7dfb420"
      },
      "outputs": [
        {
          "name": "stdout",
          "output_type": "stream",
          "text": [
            "7 2\n"
          ]
        }
      ],
      "source": [
        "N, x = map(int, input().split())"
      ]
    },
    {
      "cell_type": "code",
      "source": [
        "nums = list(map(int, input().split()))"
      ],
      "metadata": {
        "colab": {
          "base_uri": "https://localhost:8080/"
        },
        "id": "FKh2XDhVbX9U",
        "outputId": "526f25f7-73f8-4fa8-8f37-2d4f9d2403c0"
      },
      "execution_count": 2,
      "outputs": [
        {
          "name": "stdout",
          "output_type": "stream",
          "text": [
            "1 1 2 2 2 2 3\n"
          ]
        }
      ]
    },
    {
      "cell_type": "code",
      "source": [
        "def first(array, target, start, end):\n",
        "  if start > end:\n",
        "    return None\n",
        "  mid = (start + end) // 2\n",
        "  if (mid == 0 or target > array[mid - 1]) and array[mid] == target:\n",
        "    return mid\n",
        "  elif array[mid] >= target:\n",
        "    return first(array, target, start, mid - 1)\n",
        "  else:\n",
        "    return first(array, target, mid + 1, end)\n",
        "\n",
        "    "
      ],
      "metadata": {
        "id": "a4EVlS3jbnCB"
      },
      "execution_count": 4,
      "outputs": []
    },
    {
      "cell_type": "code",
      "source": [
        "def last(array, target, start, end):\n",
        "  if start > end:\n",
        "    return None\n",
        "  mid = (start + end) // 2\n",
        "\n",
        "  if (mid == N-1 or target < array[mid + 1]) and array[mid] == target:\n",
        "    return mid\n",
        "  elif array[mid] > target:\n",
        "    return last(array, target, start, mid - 1)\n",
        "  else:\n",
        "    return last(array, target, mid + 1, end)"
      ],
      "metadata": {
        "id": "JUtru5ZxbpPZ"
      },
      "execution_count": 9,
      "outputs": []
    },
    {
      "cell_type": "code",
      "source": [
        "def count_by_value(array, x):\n",
        "  n = len(array)\n",
        "\n",
        "  a = first(array, x, 0, n-1)\n",
        "  if a == None:\n",
        "    return 0\n",
        "\n",
        "  b = last(array, x, 0, n-1)\n",
        "  return b - a + 1"
      ],
      "metadata": {
        "id": "S3Vk1wFreVXI"
      },
      "execution_count": 10,
      "outputs": []
    },
    {
      "cell_type": "code",
      "source": [
        "count = count_by_value(nums, x)"
      ],
      "metadata": {
        "id": "-6XhekZ6fbDs"
      },
      "execution_count": 11,
      "outputs": []
    },
    {
      "cell_type": "code",
      "source": [
        "if count == 0:\n",
        "  print(-1)\n",
        "else:\n",
        "  print(count)"
      ],
      "metadata": {
        "colab": {
          "base_uri": "https://localhost:8080/"
        },
        "id": "vqK-CzzBfcyQ",
        "outputId": "b6a4497c-46f4-4df5-c1e5-dc58e851887c"
      },
      "execution_count": 12,
      "outputs": [
        {
          "output_type": "stream",
          "name": "stdout",
          "text": [
            "4\n"
          ]
        }
      ]
    },
    {
      "cell_type": "code",
      "source": [
        ""
      ],
      "metadata": {
        "id": "klV6GD2ff4ap"
      },
      "execution_count": null,
      "outputs": []
    }
  ]
}